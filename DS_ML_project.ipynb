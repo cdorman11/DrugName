{
 "cells": [
  {
   "cell_type": "markdown",
   "id": "58c5932f-bb2d-4d94-b0d6-720466ae8287",
   "metadata": {},
   "source": [
    "# Make a model based on past diagnoses that predicts the optimal drug for future patients"
   ]
  },
  {
   "cell_type": "markdown",
   "id": "dc34de9c-d6d3-4f8e-b2ec-f14885d671fa",
   "metadata": {},
   "source": [
    "Accompanying YouTube video: https://youtu.be/OnQ_hdjnRrQ"
   ]
  },
  {
   "cell_type": "markdown",
   "id": "056aadc7-6a8c-4f37-b194-a9c0e8e70191",
   "metadata": {},
   "source": [
    "I wanted to do something medical with ML, but I couldn't see how to apply regression to any such datasets outside of diagnosis, except imaging.  Since we won't be covering the application of ML to image recognition until the ML course, I eschewed those projects.  So I settled on a regression problem in which the correct drug recommendations for 200 people with the same disease.\n",
    "\n",
    "The project comes from the dataset site Kaggle.  The dataset has only 200 records.  The independent variables are age, blood pressure, gender, sodium-to-potassium blood ratio, and cholesterol level.  (The cholesterol level is just a binary variable, either high or normal.)  The dependent variable is the drug (of five) found to be effective for that patient.\n",
    "\n",
    "**Anticipated difficulties:** Drug, our discrete dependent variable, is *not* ordinal.  This variable isn't a variation in dosage.  It's a qualitative difference in drug type.  So this problem doesn't lend itself to multivariate linear regression.  This means using ML.\n",
    "Some background: https://www.quora.com/Why-can-we-not-use-linear-regression-for-an-ordinal-dependent-variable\n",
    "Solutions other than ML when the dependent variable has more than two levels (thus ruling out logistic) include MLE and multinomial logistic regression.\n",
    "Some background:\n",
    "* https://www.researchgate.net/post/How_to_predict_nominal_dependent_given_categorical_independent_variables\n",
    "* https://en.wikipedia.org/wiki/Multinomial_logistic_regression\n"
   ]
  },
  {
   "cell_type": "markdown",
   "id": "c33ccaad-0dc6-483e-a0a4-d4ed696e754c",
   "metadata": {},
   "source": [
    "Data source:\n",
    "https://www.kaggle.com/prathamtripathi/drug-classification"
   ]
  },
  {
   "cell_type": "code",
   "execution_count": 1,
   "id": "4d229374-fce5-4706-a330-b34458c47817",
   "metadata": {},
   "outputs": [],
   "source": [
    "%matplotlib inline\n",
    "import pandas as pd\n",
    "import matplotlib.pyplot as plt\n",
    "import numpy as np\n",
    "import scipy\n",
    "import scipy.stats\n",
    "import math"
   ]
  },
  {
   "cell_type": "code",
   "execution_count": 2,
   "id": "c1a724ff-a2b6-409c-afba-5f42683fd93f",
   "metadata": {},
   "outputs": [],
   "source": [
    "df = pd.read_csv('drug200.csv')"
   ]
  },
  {
   "cell_type": "code",
   "execution_count": 3,
   "id": "dda1fb47-caf4-4ca0-a9ad-e5b5a4a503d9",
   "metadata": {},
   "outputs": [
    {
     "data": {
      "text/html": [
       "<div>\n",
       "<style scoped>\n",
       "    .dataframe tbody tr th:only-of-type {\n",
       "        vertical-align: middle;\n",
       "    }\n",
       "\n",
       "    .dataframe tbody tr th {\n",
       "        vertical-align: top;\n",
       "    }\n",
       "\n",
       "    .dataframe thead th {\n",
       "        text-align: right;\n",
       "    }\n",
       "</style>\n",
       "<table border=\"1\" class=\"dataframe\">\n",
       "  <thead>\n",
       "    <tr style=\"text-align: right;\">\n",
       "      <th></th>\n",
       "      <th>Age</th>\n",
       "      <th>Sex</th>\n",
       "      <th>BP</th>\n",
       "      <th>Cholesterol</th>\n",
       "      <th>Na_to_K</th>\n",
       "      <th>Drug</th>\n",
       "    </tr>\n",
       "  </thead>\n",
       "  <tbody>\n",
       "    <tr>\n",
       "      <th>0</th>\n",
       "      <td>23</td>\n",
       "      <td>F</td>\n",
       "      <td>HIGH</td>\n",
       "      <td>HIGH</td>\n",
       "      <td>25.355</td>\n",
       "      <td>DrugY</td>\n",
       "    </tr>\n",
       "    <tr>\n",
       "      <th>1</th>\n",
       "      <td>47</td>\n",
       "      <td>M</td>\n",
       "      <td>LOW</td>\n",
       "      <td>HIGH</td>\n",
       "      <td>13.093</td>\n",
       "      <td>drugC</td>\n",
       "    </tr>\n",
       "    <tr>\n",
       "      <th>2</th>\n",
       "      <td>47</td>\n",
       "      <td>M</td>\n",
       "      <td>LOW</td>\n",
       "      <td>HIGH</td>\n",
       "      <td>10.114</td>\n",
       "      <td>drugC</td>\n",
       "    </tr>\n",
       "    <tr>\n",
       "      <th>3</th>\n",
       "      <td>28</td>\n",
       "      <td>F</td>\n",
       "      <td>NORMAL</td>\n",
       "      <td>HIGH</td>\n",
       "      <td>7.798</td>\n",
       "      <td>drugX</td>\n",
       "    </tr>\n",
       "    <tr>\n",
       "      <th>4</th>\n",
       "      <td>61</td>\n",
       "      <td>F</td>\n",
       "      <td>LOW</td>\n",
       "      <td>HIGH</td>\n",
       "      <td>18.043</td>\n",
       "      <td>DrugY</td>\n",
       "    </tr>\n",
       "  </tbody>\n",
       "</table>\n",
       "</div>"
      ],
      "text/plain": [
       "   Age Sex      BP Cholesterol  Na_to_K   Drug\n",
       "0   23   F    HIGH        HIGH   25.355  DrugY\n",
       "1   47   M     LOW        HIGH   13.093  drugC\n",
       "2   47   M     LOW        HIGH   10.114  drugC\n",
       "3   28   F  NORMAL        HIGH    7.798  drugX\n",
       "4   61   F     LOW        HIGH   18.043  DrugY"
      ]
     },
     "execution_count": 3,
     "metadata": {},
     "output_type": "execute_result"
    }
   ],
   "source": [
    "df.head()"
   ]
  },
  {
   "cell_type": "code",
   "execution_count": 4,
   "id": "13274a4c-5d00-4359-b4a9-c2ca0edab00d",
   "metadata": {},
   "outputs": [
    {
     "data": {
      "text/plain": [
       "Age              int64\n",
       "Sex             object\n",
       "BP              object\n",
       "Cholesterol     object\n",
       "Na_to_K        float64\n",
       "Drug            object\n",
       "dtype: object"
      ]
     },
     "execution_count": 4,
     "metadata": {},
     "output_type": "execute_result"
    }
   ],
   "source": [
    "df.dtypes"
   ]
  },
  {
   "cell_type": "markdown",
   "id": "5067e3f6-c052-417e-bd23-3282e7160116",
   "metadata": {},
   "source": [
    "Before changing Drug to categorical must change spelling to be homogeneous.  (We can't change a record's category value *after* the variable is set to category type, since a new category would, therefore, be created.)"
   ]
  },
  {
   "cell_type": "code",
   "execution_count": 5,
   "id": "c9af8bca-779f-4c57-b308-ce6d6c6d0e2d",
   "metadata": {},
   "outputs": [],
   "source": [
    "drugy = df.Drug == 'DrugY'\n",
    "df.loc[drugy,['Drug']] = 'drugY'"
   ]
  },
  {
   "cell_type": "code",
   "execution_count": 6,
   "id": "03c8dd0a-e58d-4f44-94d7-b5ccd30997e6",
   "metadata": {},
   "outputs": [],
   "source": [
    "df.Sex = df.Sex.astype('category')\n",
    "df.BP = df.BP.astype('category')\n",
    "df.Cholesterol = df.Cholesterol.astype('category')\n",
    "df.Drug = df.Drug.astype('category')"
   ]
  },
  {
   "cell_type": "code",
   "execution_count": 7,
   "id": "4d051a2c-2605-4d5f-9a86-004a09efb8cf",
   "metadata": {},
   "outputs": [
    {
     "data": {
      "text/plain": [
       "Age               int64\n",
       "Sex            category\n",
       "BP             category\n",
       "Cholesterol    category\n",
       "Na_to_K         float64\n",
       "Drug           category\n",
       "dtype: object"
      ]
     },
     "execution_count": 7,
     "metadata": {},
     "output_type": "execute_result"
    }
   ],
   "source": [
    "df.dtypes"
   ]
  },
  {
   "cell_type": "markdown",
   "id": "e6663bec-d492-43a7-8053-5bc9a7c66cbb",
   "metadata": {},
   "source": [
    "### Data Scrubbing ###\n",
    "It was confirmed in Excel that there are only five spellings of the dependent variable, Drug, and only DrugY uses a capitalization.  Other variables were checked to ensure no multiplicity of spellings for the same intended value.  No data was missing."
   ]
  },
  {
   "cell_type": "code",
   "execution_count": 8,
   "id": "1dbf6fe1-bfd7-4392-bc83-9d10b7925ed7",
   "metadata": {},
   "outputs": [],
   "source": [
    "drugy = df.Drug == 'DrugY'\n",
    "df.loc[drugy,['Drug']] = 'drugY'\n"
   ]
  },
  {
   "cell_type": "code",
   "execution_count": 9,
   "id": "3bd56893-5dda-42b9-9f60-83e8abd7e47a",
   "metadata": {},
   "outputs": [
    {
     "data": {
      "text/html": [
       "<div>\n",
       "<style scoped>\n",
       "    .dataframe tbody tr th:only-of-type {\n",
       "        vertical-align: middle;\n",
       "    }\n",
       "\n",
       "    .dataframe tbody tr th {\n",
       "        vertical-align: top;\n",
       "    }\n",
       "\n",
       "    .dataframe thead th {\n",
       "        text-align: right;\n",
       "    }\n",
       "</style>\n",
       "<table border=\"1\" class=\"dataframe\">\n",
       "  <thead>\n",
       "    <tr style=\"text-align: right;\">\n",
       "      <th></th>\n",
       "      <th>Age</th>\n",
       "      <th>Sex</th>\n",
       "      <th>BP</th>\n",
       "      <th>Cholesterol</th>\n",
       "      <th>Na_to_K</th>\n",
       "      <th>Drug</th>\n",
       "    </tr>\n",
       "  </thead>\n",
       "  <tbody>\n",
       "    <tr>\n",
       "      <th>0</th>\n",
       "      <td>23</td>\n",
       "      <td>F</td>\n",
       "      <td>HIGH</td>\n",
       "      <td>HIGH</td>\n",
       "      <td>25.355</td>\n",
       "      <td>drugY</td>\n",
       "    </tr>\n",
       "    <tr>\n",
       "      <th>1</th>\n",
       "      <td>47</td>\n",
       "      <td>M</td>\n",
       "      <td>LOW</td>\n",
       "      <td>HIGH</td>\n",
       "      <td>13.093</td>\n",
       "      <td>drugC</td>\n",
       "    </tr>\n",
       "    <tr>\n",
       "      <th>2</th>\n",
       "      <td>47</td>\n",
       "      <td>M</td>\n",
       "      <td>LOW</td>\n",
       "      <td>HIGH</td>\n",
       "      <td>10.114</td>\n",
       "      <td>drugC</td>\n",
       "    </tr>\n",
       "    <tr>\n",
       "      <th>3</th>\n",
       "      <td>28</td>\n",
       "      <td>F</td>\n",
       "      <td>NORMAL</td>\n",
       "      <td>HIGH</td>\n",
       "      <td>7.798</td>\n",
       "      <td>drugX</td>\n",
       "    </tr>\n",
       "    <tr>\n",
       "      <th>4</th>\n",
       "      <td>61</td>\n",
       "      <td>F</td>\n",
       "      <td>LOW</td>\n",
       "      <td>HIGH</td>\n",
       "      <td>18.043</td>\n",
       "      <td>drugY</td>\n",
       "    </tr>\n",
       "  </tbody>\n",
       "</table>\n",
       "</div>"
      ],
      "text/plain": [
       "   Age Sex      BP Cholesterol  Na_to_K   Drug\n",
       "0   23   F    HIGH        HIGH   25.355  drugY\n",
       "1   47   M     LOW        HIGH   13.093  drugC\n",
       "2   47   M     LOW        HIGH   10.114  drugC\n",
       "3   28   F  NORMAL        HIGH    7.798  drugX\n",
       "4   61   F     LOW        HIGH   18.043  drugY"
      ]
     },
     "execution_count": 9,
     "metadata": {},
     "output_type": "execute_result"
    }
   ],
   "source": [
    "df.head()"
   ]
  },
  {
   "cell_type": "markdown",
   "id": "5b260631-12f9-4290-b63c-711608c12fda",
   "metadata": {},
   "source": [
    "Excel analysis shows there are no NaNs.\n",
    "\n",
    "### EDA\n",
    "\n",
    "Check for outliers:"
   ]
  },
  {
   "cell_type": "code",
   "execution_count": 10,
   "id": "9d38c505-4838-44ef-9853-a7f36a7cbf6a",
   "metadata": {},
   "outputs": [],
   "source": [
    "drug_a=df.loc[df['Drug']=='drugA'].values    # data frames from data frames\n",
    "drug_b=df.loc[df['Drug']=='drugB'].values\n",
    "drug_c=df.loc[df['Drug']=='drugC'].values\n",
    "drug_x=df.loc[df['Drug']=='drugX'].values\n",
    "drug_y=df.loc[df['Drug']=='drugY'].values\n",
    "\n",
    "a=drug_a[:,0:1]      # numpy vector from a pandas data frame column\n",
    "b=drug_b[:,0:1]\n",
    "c=drug_c[:,0:1]\n",
    "x=drug_x[:,0:1]\n",
    "y=drug_y[:,0:1]"
   ]
  },
  {
   "cell_type": "code",
   "execution_count": 11,
   "id": "2e469e4b-0650-4d09-8530-1a16505bd251",
   "metadata": {},
   "outputs": [
    {
     "data": {
      "image/png": "[encoded data removed]",
      "text/plain": [
       "<Figure size 432x288 with 1 Axes>"
      ]
     },
     "metadata": {
      "needs_background": "light"
     },
     "output_type": "display_data"
    }
   ],
   "source": [
    "#fig, ax = plt.subplots() # 1 row, 5 columns\n",
    "#plt.boxplot([drug_a, drug_b, drug_c, drug_x, drug_y], labels=['A','B','C','X','Y'])\n",
    "#plt.boxplot([drug_a], labels=['A'])\n",
    "# plt.boxplot([drug_a])\n",
    "# plt.ylabel('Years')\n",
    "# plt.xlabel('Drug')\n",
    "#plt.show();\n",
    "# How to fit these plots onto one row?\n",
    "\n",
    "# fig, ax = plt.subplots(1, 5) # 1 row, 5 columns\n",
    "# plt.boxplot([drug_a, drug_b, drug_c, drug_x, drug_y], labels=['A','B','C','X','Y'])\n",
    "# plt.ylabel('Years')\n",
    "# plt.xlabel('Drug')\n",
    "# plt.show()\n",
    "\n",
    "data1 = [a.flatten(), b.flatten(), c.flatten(), x.flatten(), y.flatten()]  # b/c they're 2D\n",
    "fig, ax = plt.subplots()\n",
    "ax.boxplot(data1, labels=['A','B','C','X','Y'])\n",
    "plt.ylabel('Years')\n",
    "plt.xlabel('Drug')\n",
    "plt.show();\n",
    "\n",
    "# fig1, ax1 = plt.subplots()\n",
    "# ax1.set_title('Drug A')\n",
    "# ax1.boxplot(a);\n",
    "\n",
    "\n",
    "\n",
    "\n"
   ]
  },
  {
   "cell_type": "markdown",
   "id": "8e16f615-a98f-4c96-84bf-8b53d71f7903",
   "metadata": {},
   "source": [
    "Three drugs seem appropriate for all age ranges, while B doesn't seem to work for those under 50 at all and A doesn't work for anyone over 50.\n",
    "So what other patterns could be noticed by examining other variables?"
   ]
  },
  {
   "cell_type": "code",
   "execution_count": 12,
   "id": "dfb99631-23fd-469c-88cd-dfc839869c4a",
   "metadata": {},
   "outputs": [
    {
     "data": {
      "image/png": "[encoded data removed]",
      "text/plain": [
       "<Figure size 432x288 with 1 Axes>"
      ]
     },
     "metadata": {
      "needs_background": "light"
     },
     "output_type": "display_data"
    }
   ],
   "source": [
    "\n",
    "\n",
    "a_NatoK=drug_a[:,4:5]      # numpy vector from a pandas data frame column\n",
    "b_NatoK=drug_b[:,4:5]\n",
    "c_NatoK=drug_c[:,4:5]\n",
    "x_NatoK=drug_x[:,4:5]\n",
    "y_NatoK=drug_y[:,4:5]\n",
    "\n",
    "data2 = [a_NatoK.flatten(), b_NatoK.flatten(), c_NatoK.flatten(), x_NatoK.flatten(), y_NatoK.flatten()]  # b/c they're 2D\n",
    "fig, ax = plt.subplots()\n",
    "ax.boxplot(data2, labels=['A','B','C','X','Y'])\n",
    "plt.ylabel('Na to K Ratio')\n",
    "plt.xlabel('Drug')\n",
    "plt.show();"
   ]
  },
  {
   "cell_type": "markdown",
   "id": "dc03c8f0-3b4a-463e-a32b-5c3a0165156d",
   "metadata": {
    "tags": []
   },
   "source": [
    "Clearly drug Y is the one and only drug of choicewhen the Na-to-K ratio is above 15."
   ]
  },
  {
   "cell_type": "markdown",
   "id": "a9083a6e-2920-489c-9b65-5a41181ee17a",
   "metadata": {},
   "source": [
    "Y has quite a spread.  I might suspect that a histogram should be run to see if there are outliers, especially since parameters estimated by MLE, which is used for multinomial logistic regression, is highly susceptible to outliers.  However, the outliers for Y seem to go in a direction that would ensure that drug Y is prescribed if the Na:K ratio is over 15."
   ]
  },
  {
   "cell_type": "code",
   "execution_count": 13,
   "id": "cc7824b2-50bb-4d80-b04f-dde185733da8",
   "metadata": {},
   "outputs": [
    {
     "data": {
      "image/png": "[encoded data removed]",
      "text/plain": [
       "<Figure size 432x288 with 1 Axes>"
      ]
     },
     "metadata": {
      "needs_background": "light"
     },
     "output_type": "display_data"
    }
   ],
   "source": [
    "plt.hist(y_NatoK);\n",
    "plt.show;"
   ]
  },
  {
   "cell_type": "markdown",
   "id": "fcf281d3-7490-4666-852e-ee8f1e690518",
   "metadata": {},
   "source": [
    "This looks pretty smooth.  No reason to remove any data at the high end."
   ]
  },
  {
   "cell_type": "code",
   "execution_count": 14,
   "id": "2b579886-2b2c-4b52-9fbb-fc5d5262800e",
   "metadata": {
    "tags": []
   },
   "outputs": [],
   "source": [
    "#df.columns[0]"
   ]
  },
  {
   "cell_type": "code",
   "execution_count": 15,
   "id": "44750820-bb1b-4aa4-8669-a571295dc5c5",
   "metadata": {
    "tags": []
   },
   "outputs": [
    {
     "data": {
      "text/html": [
       "<div>\n",
       "<style scoped>\n",
       "    .dataframe tbody tr th:only-of-type {\n",
       "        vertical-align: middle;\n",
       "    }\n",
       "\n",
       "    .dataframe tbody tr th {\n",
       "        vertical-align: top;\n",
       "    }\n",
       "\n",
       "    .dataframe thead th {\n",
       "        text-align: right;\n",
       "    }\n",
       "</style>\n",
       "<table border=\"1\" class=\"dataframe\">\n",
       "  <thead>\n",
       "    <tr style=\"text-align: right;\">\n",
       "      <th></th>\n",
       "      <th>Sex</th>\n",
       "      <th>Drug</th>\n",
       "    </tr>\n",
       "  </thead>\n",
       "  <tbody>\n",
       "    <tr>\n",
       "      <th>0</th>\n",
       "      <td>F</td>\n",
       "      <td>96</td>\n",
       "    </tr>\n",
       "    <tr>\n",
       "      <th>1</th>\n",
       "      <td>M</td>\n",
       "      <td>104</td>\n",
       "    </tr>\n",
       "  </tbody>\n",
       "</table>\n",
       "</div>"
      ],
      "text/plain": [
       "  Sex  Drug\n",
       "0   F    96\n",
       "1   M   104"
      ]
     },
     "execution_count": 15,
     "metadata": {},
     "output_type": "execute_result"
    }
   ],
   "source": [
    "# df_gender_wrong = df_gender.groupby(['Sex', 'Drug'])['id'].count().reset_index(name='count')\n",
    "\n",
    "#df_gender_wrong = df.loc(,['Sex','Drug'], as_index=False).count()\n",
    "\n",
    "# df1.groupby(['State','Product'])['Sales'].count().reset_index() # to model from another source\n",
    "df_gender_wrong = df.groupby(['Sex'])['Drug'].count().reset_index()\n",
    "df_gender_wrong\n",
    "# So now I can't replicate my problem for discussion."
   ]
  },
  {
   "cell_type": "code",
   "execution_count": 16,
   "id": "2d30c0e1-aab5-4454-915a-38f8a87385c0",
   "metadata": {},
   "outputs": [
    {
     "data": {
      "text/html": [
       "<div>\n",
       "<style scoped>\n",
       "    .dataframe tbody tr th:only-of-type {\n",
       "        vertical-align: middle;\n",
       "    }\n",
       "\n",
       "    .dataframe tbody tr th {\n",
       "        vertical-align: top;\n",
       "    }\n",
       "\n",
       "    .dataframe thead th {\n",
       "        text-align: right;\n",
       "    }\n",
       "</style>\n",
       "<table border=\"1\" class=\"dataframe\">\n",
       "  <thead>\n",
       "    <tr style=\"text-align: right;\">\n",
       "      <th></th>\n",
       "      <th>Sex</th>\n",
       "      <th>Drug</th>\n",
       "      <th>c</th>\n",
       "    </tr>\n",
       "  </thead>\n",
       "  <tbody>\n",
       "    <tr>\n",
       "      <th>0</th>\n",
       "      <td>F</td>\n",
       "      <td>drugA</td>\n",
       "      <td>9</td>\n",
       "    </tr>\n",
       "    <tr>\n",
       "      <th>1</th>\n",
       "      <td>F</td>\n",
       "      <td>drugB</td>\n",
       "      <td>6</td>\n",
       "    </tr>\n",
       "    <tr>\n",
       "      <th>2</th>\n",
       "      <td>F</td>\n",
       "      <td>drugC</td>\n",
       "      <td>7</td>\n",
       "    </tr>\n",
       "    <tr>\n",
       "      <th>3</th>\n",
       "      <td>F</td>\n",
       "      <td>drugX</td>\n",
       "      <td>27</td>\n",
       "    </tr>\n",
       "    <tr>\n",
       "      <th>4</th>\n",
       "      <td>F</td>\n",
       "      <td>drugY</td>\n",
       "      <td>47</td>\n",
       "    </tr>\n",
       "    <tr>\n",
       "      <th>5</th>\n",
       "      <td>M</td>\n",
       "      <td>drugA</td>\n",
       "      <td>14</td>\n",
       "    </tr>\n",
       "    <tr>\n",
       "      <th>6</th>\n",
       "      <td>M</td>\n",
       "      <td>drugB</td>\n",
       "      <td>10</td>\n",
       "    </tr>\n",
       "    <tr>\n",
       "      <th>7</th>\n",
       "      <td>M</td>\n",
       "      <td>drugC</td>\n",
       "      <td>9</td>\n",
       "    </tr>\n",
       "    <tr>\n",
       "      <th>8</th>\n",
       "      <td>M</td>\n",
       "      <td>drugX</td>\n",
       "      <td>27</td>\n",
       "    </tr>\n",
       "    <tr>\n",
       "      <th>9</th>\n",
       "      <td>M</td>\n",
       "      <td>drugY</td>\n",
       "      <td>44</td>\n",
       "    </tr>\n",
       "  </tbody>\n",
       "</table>\n",
       "</div>"
      ],
      "text/plain": [
       "  Sex   Drug   c\n",
       "0   F  drugA   9\n",
       "1   F  drugB   6\n",
       "2   F  drugC   7\n",
       "3   F  drugX  27\n",
       "4   F  drugY  47\n",
       "5   M  drugA  14\n",
       "6   M  drugB  10\n",
       "7   M  drugC   9\n",
       "8   M  drugX  27\n",
       "9   M  drugY  44"
      ]
     },
     "execution_count": 16,
     "metadata": {},
     "output_type": "execute_result"
    }
   ],
   "source": [
    "\n",
    "df_gender = df[['Sex', 'Drug']].copy()   # to avoid other cols showing up in results\n",
    "df_gender = df_gender.groupby(['Sex','Drug']).Drug.agg('count').to_frame('c').reset_index()\n",
    "df_gender\n",
    "\n"
   ]
  },
  {
   "cell_type": "code",
   "execution_count": 17,
   "id": "a83d09da-7df3-4cfa-a717-ac65ebf9e2a9",
   "metadata": {},
   "outputs": [],
   "source": [
    "#df_gender"
   ]
  },
  {
   "cell_type": "code",
   "execution_count": 18,
   "id": "e0133ca7-8d76-44c7-9647-e50783ff60eb",
   "metadata": {
    "tags": []
   },
   "outputs": [
    {
     "data": {
      "text/html": [
       "<div>\n",
       "<style scoped>\n",
       "    .dataframe tbody tr th:only-of-type {\n",
       "        vertical-align: middle;\n",
       "    }\n",
       "\n",
       "    .dataframe tbody tr th {\n",
       "        vertical-align: top;\n",
       "    }\n",
       "\n",
       "    .dataframe thead th {\n",
       "        text-align: right;\n",
       "    }\n",
       "</style>\n",
       "<table border=\"1\" class=\"dataframe\">\n",
       "  <thead>\n",
       "    <tr style=\"text-align: right;\">\n",
       "      <th>Drug</th>\n",
       "      <th>drugA</th>\n",
       "      <th>drugB</th>\n",
       "      <th>drugC</th>\n",
       "      <th>drugX</th>\n",
       "      <th>drugY</th>\n",
       "    </tr>\n",
       "    <tr>\n",
       "      <th>Sex</th>\n",
       "      <th></th>\n",
       "      <th></th>\n",
       "      <th></th>\n",
       "      <th></th>\n",
       "      <th></th>\n",
       "    </tr>\n",
       "  </thead>\n",
       "  <tbody>\n",
       "    <tr>\n",
       "      <th>F</th>\n",
       "      <td>9</td>\n",
       "      <td>6</td>\n",
       "      <td>7</td>\n",
       "      <td>27</td>\n",
       "      <td>47</td>\n",
       "    </tr>\n",
       "    <tr>\n",
       "      <th>M</th>\n",
       "      <td>14</td>\n",
       "      <td>10</td>\n",
       "      <td>9</td>\n",
       "      <td>27</td>\n",
       "      <td>44</td>\n",
       "    </tr>\n",
       "  </tbody>\n",
       "</table>\n",
       "</div>"
      ],
      "text/plain": [
       "Drug  drugA  drugB  drugC  drugX  drugY\n",
       "Sex                                    \n",
       "F         9      6      7     27     47\n",
       "M        14     10      9     27     44"
      ]
     },
     "execution_count": 18,
     "metadata": {},
     "output_type": "execute_result"
    }
   ],
   "source": [
    "\n",
    "\n",
    "df_gender = df_gender.pivot_table(index='Sex',columns='Drug',values='c',fill_value=0)\n",
    "df_gender\n"
   ]
  },
  {
   "cell_type": "code",
   "execution_count": 19,
   "id": "b35b5ad3-9194-4c1e-8248-05034c11aed2",
   "metadata": {},
   "outputs": [
    {
     "data": {
      "text/plain": [
       "<Figure size 432x288 with 0 Axes>"
      ]
     },
     "metadata": {},
     "output_type": "display_data"
    },
    {
     "data": {
      "image/png": "[encoded data removed]",
      "text/plain": [
       "<Figure size 432x288 with 1 Axes>"
      ]
     },
     "metadata": {
      "needs_background": "light"
     },
     "output_type": "display_data"
    }
   ],
   "source": [
    "# df_gender[[\"Drug\"]].plot(kind=\"bar\", stacked=True)\n",
    "# df_gender['Sex'].plot(kind='bar', stacked=True)\n",
    "\n",
    "plt.figure();\n",
    "df_gender.plot.bar(title='STACKED BAR CHART', stacked=True);\n"
   ]
  },
  {
   "cell_type": "markdown",
   "id": "b56b2432-8eb8-4464-a48b-fe9ac183bffb",
   "metadata": {},
   "source": [
    "There's no significant difference between genders.  Gender is likely a variable that can be dropped."
   ]
  },
  {
   "cell_type": "code",
   "execution_count": 20,
   "id": "7b307aae-aa7e-4a46-bf5a-cc59b43a6f32",
   "metadata": {},
   "outputs": [
    {
     "data": {
      "text/plain": [
       "<Figure size 432x288 with 0 Axes>"
      ]
     },
     "metadata": {},
     "output_type": "display_data"
    },
    {
     "data": {
      "image/png": "[encoded data removed]",
      "text/plain": [
       "<Figure size 432x288 with 1 Axes>"
      ]
     },
     "metadata": {
      "needs_background": "light"
     },
     "output_type": "display_data"
    }
   ],
   "source": [
    "df_BP = df[['BP', 'Drug']].copy()   # to avoid other cols showing up in results\n",
    "df_BP = df_BP.groupby(['BP','Drug']).Drug.agg('count').to_frame('c').reset_index()\n",
    "df_BP = df_BP.pivot_table(index='BP',columns='Drug',values='c',fill_value=0)\n",
    "plt.figure();\n",
    "df_BP.plot.bar(title='STACKED BAR CHART', stacked=True);"
   ]
  },
  {
   "cell_type": "markdown",
   "id": "4a014e20-380c-475f-8e25-99feb9d51088",
   "metadata": {},
   "source": [
    "This result is distinctive.  For each blood pressure category, at least two drugs are deemed\n",
    "relatively ineffective.  For normal blood pressure, three medications are deemed inferior.  Drug\n",
    "X an C are never given to those with high blood pressure."
   ]
  },
  {
   "cell_type": "code",
   "execution_count": 21,
   "id": "aed51463-b8d2-49cb-802c-57a0092cccbe",
   "metadata": {},
   "outputs": [
    {
     "data": {
      "text/plain": [
       "<Figure size 432x288 with 0 Axes>"
      ]
     },
     "metadata": {},
     "output_type": "display_data"
    },
    {
     "data": {
      "image/png": "[encoded data removed]",
      "text/plain": [
       "<Figure size 432x288 with 1 Axes>"
      ]
     },
     "metadata": {
      "needs_background": "light"
     },
     "output_type": "display_data"
    }
   ],
   "source": [
    "df_chol = df[['Cholesterol', 'Drug']].copy()   # to avoid other cols showing up in results\n",
    "df_chol = df_chol.groupby(['Cholesterol','Drug']).Drug.agg('count').to_frame('c').reset_index()\n",
    "df_chol = df_chol.pivot_table(index='Cholesterol',columns='Drug',values='c',fill_value=0)\n",
    "plt.figure();\n",
    "df_chol.plot.bar(title='STACKED BAR CHART', stacked=True, );"
   ]
  },
  {
   "cell_type": "markdown",
   "id": "bfe63fc6-869f-4bd7-a8f5-ffee4123e758",
   "metadata": {},
   "source": [
    "Drug C isn't given to those with normal cholesterol.  X seems preferred.  Otherwise, \n",
    "the differences don't seem significant."
   ]
  },
  {
   "cell_type": "markdown",
   "id": "7edb50d5-4d93-4056-a8c9-cea5e1de8c95",
   "metadata": {},
   "source": [
    "### Sample Size ###\n",
    "Schwab (2002) advises that a multinomial logistic regression requires a sample size of at least 10 records per independent variable.  With 200 records, this criterion is met.\n",
    "https://it.unt.edu/sites/default/files/mlr_jds_aug2011.pdf"
   ]
  },
  {
   "cell_type": "markdown",
   "id": "91259e9f-1181-4ed9-9783-a0c764081f25",
   "metadata": {},
   "source": [
    "### EDA Summary ###\n",
    "I could find no missing data or outliers, the latter being of concern for the MLE approach I'm likely to use for multinomial logistic regression.  The sample is of sufficient size.\n",
    "I will expect my model to have certain properties that match patterns found in the EDA:\n",
    "* Drug C won't be prescribed if cholesterol is normal.\n",
    "* Drugs A, B, and C won't be prescribed if blood pressure is normal.\n",
    "* Drugs A and B won't be used if blood pressure is low.\n",
    "* Drugs C and X won't be prescribed if blood pressure is high.\n",
    "* Drug Y is prescribed if and only if blood Na:K ratio is above 15.  No other drug is prescribed then.  Y is not prescribed in any other situation.\n",
    "* Drug A should be prescribed only to patients under 50.  Drug B should only be prescribed to patients over 50.\n",
    "\n",
    "If the model fails to meet any of these criteria, it should be treated as suspect.\n",
    "\n",
    "Gender might be a superfluous factor worth removing to improve the record-to-independent variable ratio.  Note that it does not figure into any of the above rules.\n",
    "\n",
    "Curiously, high and low cholesterol receive the same treatment.  This is a little suspicious, and perhaps hints at a covariance."
   ]
  },
  {
   "cell_type": "markdown",
   "id": "8c21c5c7-da67-43b3-a131-f1dd5605ab43",
   "metadata": {},
   "source": [
    "# Test Data\n",
    "An interesting point to note is that the above criteria leave little to chance.  So we can make up test data for which we know the answer.\n",
    "\n",
    "Age=55, low BP, normal chol, Na:K<15 --> Drug X\n",
    "\n",
    "Age=55, low BP, normal chol, Na:K>15 --> Drug Y\n",
    "\n",
    "Age=40, high BP, high chol, Na:K<15 --> Drug A\n",
    "\n",
    "Age=40, high BP, low chol, Na:K<15 --> Drug A\n",
    "\n",
    "Age=40, normal BP, low chol, Na:K<15 --> Drug X\n",
    "\n",
    "Age=60, low BP, high chol, Na:K<15 --> Drug C or X\n",
    "\n",
    "Age=60, low BP, normal chol, Na:K<15 --> Drug A or X\n"
   ]
  },
  {
   "cell_type": "markdown",
   "id": "473a4bf5-b52d-4f85-b864-96b3c4d324f3",
   "metadata": {},
   "source": [
    "The above could be used for testing our draft model.\n",
    "\n",
    "The solutions are not completely unique."
   ]
  },
  {
   "cell_type": "code",
   "execution_count": 22,
   "id": "bb3e17b4-9739-42bf-88fe-4efac04a7507",
   "metadata": {
    "tags": []
   },
   "outputs": [],
   "source": [
    "from sklearn.linear_model import LogisticRegression"
   ]
  },
  {
   "cell_type": "markdown",
   "id": "010234b6-682f-4831-ab9a-8b396da90783",
   "metadata": {},
   "source": [
    "In order to use this package, the discrete features must be transformed, represented by dummy variables, for one-versus-the-rest analysis (OVR), as discussed in lecture.  The outputs do not need to be transformed: LogisticRegression has a multiclass feature. So I bother specifying which columns need transformation instead of leaving the default to modify the dependent variable as well."
   ]
  },
  {
   "cell_type": "code",
   "execution_count": 57,
   "id": "4343e126-e48b-4412-9bbc-b321ef4b47ea",
   "metadata": {},
   "outputs": [],
   "source": [
    "df_OVR = pd.get_dummies(df,columns=['Sex','BP','Cholesterol'])"
   ]
  },
  {
   "cell_type": "code",
   "execution_count": 58,
   "id": "e713cb90-bb3c-44c8-8554-b9ad265e4e92",
   "metadata": {},
   "outputs": [
    {
     "data": {
      "text/html": [
       "<div>\n",
       "<style scoped>\n",
       "    .dataframe tbody tr th:only-of-type {\n",
       "        vertical-align: middle;\n",
       "    }\n",
       "\n",
       "    .dataframe tbody tr th {\n",
       "        vertical-align: top;\n",
       "    }\n",
       "\n",
       "    .dataframe thead th {\n",
       "        text-align: right;\n",
       "    }\n",
       "</style>\n",
       "<table border=\"1\" class=\"dataframe\">\n",
       "  <thead>\n",
       "    <tr style=\"text-align: right;\">\n",
       "      <th></th>\n",
       "      <th>Age</th>\n",
       "      <th>Na_to_K</th>\n",
       "      <th>Drug</th>\n",
       "      <th>Sex_F</th>\n",
       "      <th>Sex_M</th>\n",
       "      <th>BP_HIGH</th>\n",
       "      <th>BP_LOW</th>\n",
       "      <th>BP_NORMAL</th>\n",
       "      <th>Cholesterol_HIGH</th>\n",
       "      <th>Cholesterol_NORMAL</th>\n",
       "    </tr>\n",
       "  </thead>\n",
       "  <tbody>\n",
       "    <tr>\n",
       "      <th>0</th>\n",
       "      <td>23</td>\n",
       "      <td>25.355</td>\n",
       "      <td>drugY</td>\n",
       "      <td>1</td>\n",
       "      <td>0</td>\n",
       "      <td>1</td>\n",
       "      <td>0</td>\n",
       "      <td>0</td>\n",
       "      <td>1</td>\n",
       "      <td>0</td>\n",
       "    </tr>\n",
       "    <tr>\n",
       "      <th>1</th>\n",
       "      <td>47</td>\n",
       "      <td>13.093</td>\n",
       "      <td>drugC</td>\n",
       "      <td>0</td>\n",
       "      <td>1</td>\n",
       "      <td>0</td>\n",
       "      <td>1</td>\n",
       "      <td>0</td>\n",
       "      <td>1</td>\n",
       "      <td>0</td>\n",
       "    </tr>\n",
       "    <tr>\n",
       "      <th>2</th>\n",
       "      <td>47</td>\n",
       "      <td>10.114</td>\n",
       "      <td>drugC</td>\n",
       "      <td>0</td>\n",
       "      <td>1</td>\n",
       "      <td>0</td>\n",
       "      <td>1</td>\n",
       "      <td>0</td>\n",
       "      <td>1</td>\n",
       "      <td>0</td>\n",
       "    </tr>\n",
       "    <tr>\n",
       "      <th>3</th>\n",
       "      <td>28</td>\n",
       "      <td>7.798</td>\n",
       "      <td>drugX</td>\n",
       "      <td>1</td>\n",
       "      <td>0</td>\n",
       "      <td>0</td>\n",
       "      <td>0</td>\n",
       "      <td>1</td>\n",
       "      <td>1</td>\n",
       "      <td>0</td>\n",
       "    </tr>\n",
       "    <tr>\n",
       "      <th>4</th>\n",
       "      <td>61</td>\n",
       "      <td>18.043</td>\n",
       "      <td>drugY</td>\n",
       "      <td>1</td>\n",
       "      <td>0</td>\n",
       "      <td>0</td>\n",
       "      <td>1</td>\n",
       "      <td>0</td>\n",
       "      <td>1</td>\n",
       "      <td>0</td>\n",
       "    </tr>\n",
       "    <tr>\n",
       "      <th>...</th>\n",
       "      <td>...</td>\n",
       "      <td>...</td>\n",
       "      <td>...</td>\n",
       "      <td>...</td>\n",
       "      <td>...</td>\n",
       "      <td>...</td>\n",
       "      <td>...</td>\n",
       "      <td>...</td>\n",
       "      <td>...</td>\n",
       "      <td>...</td>\n",
       "    </tr>\n",
       "    <tr>\n",
       "      <th>195</th>\n",
       "      <td>56</td>\n",
       "      <td>11.567</td>\n",
       "      <td>drugC</td>\n",
       "      <td>1</td>\n",
       "      <td>0</td>\n",
       "      <td>0</td>\n",
       "      <td>1</td>\n",
       "      <td>0</td>\n",
       "      <td>1</td>\n",
       "      <td>0</td>\n",
       "    </tr>\n",
       "    <tr>\n",
       "      <th>196</th>\n",
       "      <td>16</td>\n",
       "      <td>12.006</td>\n",
       "      <td>drugC</td>\n",
       "      <td>0</td>\n",
       "      <td>1</td>\n",
       "      <td>0</td>\n",
       "      <td>1</td>\n",
       "      <td>0</td>\n",
       "      <td>1</td>\n",
       "      <td>0</td>\n",
       "    </tr>\n",
       "    <tr>\n",
       "      <th>197</th>\n",
       "      <td>52</td>\n",
       "      <td>9.894</td>\n",
       "      <td>drugX</td>\n",
       "      <td>0</td>\n",
       "      <td>1</td>\n",
       "      <td>0</td>\n",
       "      <td>0</td>\n",
       "      <td>1</td>\n",
       "      <td>1</td>\n",
       "      <td>0</td>\n",
       "    </tr>\n",
       "    <tr>\n",
       "      <th>198</th>\n",
       "      <td>23</td>\n",
       "      <td>14.020</td>\n",
       "      <td>drugX</td>\n",
       "      <td>0</td>\n",
       "      <td>1</td>\n",
       "      <td>0</td>\n",
       "      <td>0</td>\n",
       "      <td>1</td>\n",
       "      <td>0</td>\n",
       "      <td>1</td>\n",
       "    </tr>\n",
       "    <tr>\n",
       "      <th>199</th>\n",
       "      <td>40</td>\n",
       "      <td>11.349</td>\n",
       "      <td>drugX</td>\n",
       "      <td>1</td>\n",
       "      <td>0</td>\n",
       "      <td>0</td>\n",
       "      <td>1</td>\n",
       "      <td>0</td>\n",
       "      <td>0</td>\n",
       "      <td>1</td>\n",
       "    </tr>\n",
       "  </tbody>\n",
       "</table>\n",
       "<p>200 rows × 10 columns</p>\n",
       "</div>"
      ],
      "text/plain": [
       "     Age  Na_to_K   Drug  Sex_F  Sex_M  BP_HIGH  BP_LOW  BP_NORMAL  \\\n",
       "0     23   25.355  drugY      1      0        1       0          0   \n",
       "1     47   13.093  drugC      0      1        0       1          0   \n",
       "2     47   10.114  drugC      0      1        0       1          0   \n",
       "3     28    7.798  drugX      1      0        0       0          1   \n",
       "4     61   18.043  drugY      1      0        0       1          0   \n",
       "..   ...      ...    ...    ...    ...      ...     ...        ...   \n",
       "195   56   11.567  drugC      1      0        0       1          0   \n",
       "196   16   12.006  drugC      0      1        0       1          0   \n",
       "197   52    9.894  drugX      0      1        0       0          1   \n",
       "198   23   14.020  drugX      0      1        0       0          1   \n",
       "199   40   11.349  drugX      1      0        0       1          0   \n",
       "\n",
       "     Cholesterol_HIGH  Cholesterol_NORMAL  \n",
       "0                   1                   0  \n",
       "1                   1                   0  \n",
       "2                   1                   0  \n",
       "3                   1                   0  \n",
       "4                   1                   0  \n",
       "..                ...                 ...  \n",
       "195                 1                   0  \n",
       "196                 1                   0  \n",
       "197                 1                   0  \n",
       "198                 0                   1  \n",
       "199                 0                   1  \n",
       "\n",
       "[200 rows x 10 columns]"
      ]
     },
     "execution_count": 58,
     "metadata": {},
     "output_type": "execute_result"
    }
   ],
   "source": [
    "df_OVR"
   ]
  },
  {
   "cell_type": "markdown",
   "id": "02ffdf97-d7fa-49d6-8f4d-b9ddfa314cd4",
   "metadata": {},
   "source": [
    "As can be seen, this creates redundant dummy variables.  Male is represented both by Sex_F=0 and Sex_M=1.  We can drop some three columns."
   ]
  },
  {
   "cell_type": "code",
   "execution_count": 66,
   "id": "13ca2291-c953-4d8a-ab2a-cad8e02fe520",
   "metadata": {},
   "outputs": [],
   "source": [
    "#new = old.drop('B', axis=1) \n",
    "df_OVR2 = df_OVR.drop(['Sex_M', 'BP_NORMAL', 'Cholesterol_NORMAL'], axis=1)   # list-like"
   ]
  },
  {
   "cell_type": "code",
   "execution_count": 62,
   "id": "03dd155d-6ecc-443d-95b4-800c9f92e8c6",
   "metadata": {
    "tags": []
   },
   "outputs": [
    {
     "data": {
      "text/html": [
       "<div>\n",
       "<style scoped>\n",
       "    .dataframe tbody tr th:only-of-type {\n",
       "        vertical-align: middle;\n",
       "    }\n",
       "\n",
       "    .dataframe tbody tr th {\n",
       "        vertical-align: top;\n",
       "    }\n",
       "\n",
       "    .dataframe thead th {\n",
       "        text-align: right;\n",
       "    }\n",
       "</style>\n",
       "<table border=\"1\" class=\"dataframe\">\n",
       "  <thead>\n",
       "    <tr style=\"text-align: right;\">\n",
       "      <th></th>\n",
       "      <th>Age</th>\n",
       "      <th>Na_to_K</th>\n",
       "      <th>Drug</th>\n",
       "      <th>Sex_F</th>\n",
       "      <th>BP_HIGH</th>\n",
       "      <th>BP_LOW</th>\n",
       "      <th>Cholesterol_HIGH</th>\n",
       "    </tr>\n",
       "  </thead>\n",
       "  <tbody>\n",
       "    <tr>\n",
       "      <th>0</th>\n",
       "      <td>23</td>\n",
       "      <td>25.355</td>\n",
       "      <td>drugY</td>\n",
       "      <td>1</td>\n",
       "      <td>1</td>\n",
       "      <td>0</td>\n",
       "      <td>1</td>\n",
       "    </tr>\n",
       "    <tr>\n",
       "      <th>1</th>\n",
       "      <td>47</td>\n",
       "      <td>13.093</td>\n",
       "      <td>drugC</td>\n",
       "      <td>0</td>\n",
       "      <td>0</td>\n",
       "      <td>1</td>\n",
       "      <td>1</td>\n",
       "    </tr>\n",
       "    <tr>\n",
       "      <th>2</th>\n",
       "      <td>47</td>\n",
       "      <td>10.114</td>\n",
       "      <td>drugC</td>\n",
       "      <td>0</td>\n",
       "      <td>0</td>\n",
       "      <td>1</td>\n",
       "      <td>1</td>\n",
       "    </tr>\n",
       "    <tr>\n",
       "      <th>3</th>\n",
       "      <td>28</td>\n",
       "      <td>7.798</td>\n",
       "      <td>drugX</td>\n",
       "      <td>1</td>\n",
       "      <td>0</td>\n",
       "      <td>0</td>\n",
       "      <td>1</td>\n",
       "    </tr>\n",
       "    <tr>\n",
       "      <th>4</th>\n",
       "      <td>61</td>\n",
       "      <td>18.043</td>\n",
       "      <td>drugY</td>\n",
       "      <td>1</td>\n",
       "      <td>0</td>\n",
       "      <td>1</td>\n",
       "      <td>1</td>\n",
       "    </tr>\n",
       "    <tr>\n",
       "      <th>...</th>\n",
       "      <td>...</td>\n",
       "      <td>...</td>\n",
       "      <td>...</td>\n",
       "      <td>...</td>\n",
       "      <td>...</td>\n",
       "      <td>...</td>\n",
       "      <td>...</td>\n",
       "    </tr>\n",
       "    <tr>\n",
       "      <th>195</th>\n",
       "      <td>56</td>\n",
       "      <td>11.567</td>\n",
       "      <td>drugC</td>\n",
       "      <td>1</td>\n",
       "      <td>0</td>\n",
       "      <td>1</td>\n",
       "      <td>1</td>\n",
       "    </tr>\n",
       "    <tr>\n",
       "      <th>196</th>\n",
       "      <td>16</td>\n",
       "      <td>12.006</td>\n",
       "      <td>drugC</td>\n",
       "      <td>0</td>\n",
       "      <td>0</td>\n",
       "      <td>1</td>\n",
       "      <td>1</td>\n",
       "    </tr>\n",
       "    <tr>\n",
       "      <th>197</th>\n",
       "      <td>52</td>\n",
       "      <td>9.894</td>\n",
       "      <td>drugX</td>\n",
       "      <td>0</td>\n",
       "      <td>0</td>\n",
       "      <td>0</td>\n",
       "      <td>1</td>\n",
       "    </tr>\n",
       "    <tr>\n",
       "      <th>198</th>\n",
       "      <td>23</td>\n",
       "      <td>14.020</td>\n",
       "      <td>drugX</td>\n",
       "      <td>0</td>\n",
       "      <td>0</td>\n",
       "      <td>0</td>\n",
       "      <td>0</td>\n",
       "    </tr>\n",
       "    <tr>\n",
       "      <th>199</th>\n",
       "      <td>40</td>\n",
       "      <td>11.349</td>\n",
       "      <td>drugX</td>\n",
       "      <td>1</td>\n",
       "      <td>0</td>\n",
       "      <td>1</td>\n",
       "      <td>0</td>\n",
       "    </tr>\n",
       "  </tbody>\n",
       "</table>\n",
       "<p>200 rows × 7 columns</p>\n",
       "</div>"
      ],
      "text/plain": [
       "     Age  Na_to_K   Drug  Sex_F  BP_HIGH  BP_LOW  Cholesterol_HIGH\n",
       "0     23   25.355  drugY      1        1       0                 1\n",
       "1     47   13.093  drugC      0        0       1                 1\n",
       "2     47   10.114  drugC      0        0       1                 1\n",
       "3     28    7.798  drugX      1        0       0                 1\n",
       "4     61   18.043  drugY      1        0       1                 1\n",
       "..   ...      ...    ...    ...      ...     ...               ...\n",
       "195   56   11.567  drugC      1        0       1                 1\n",
       "196   16   12.006  drugC      0        0       1                 1\n",
       "197   52    9.894  drugX      0        0       0                 1\n",
       "198   23   14.020  drugX      0        0       0                 0\n",
       "199   40   11.349  drugX      1        0       1                 0\n",
       "\n",
       "[200 rows x 7 columns]"
      ]
     },
     "execution_count": 62,
     "metadata": {},
     "output_type": "execute_result"
    }
   ],
   "source": [
    "df_OVR2"
   ]
  },
  {
   "cell_type": "code",
   "execution_count": 67,
   "id": "d2614e72-627e-4f0c-9d0e-d44b7e091c95",
   "metadata": {
    "tags": []
   },
   "outputs": [],
   "source": [
    "df_OVR2 = df_OVR2[['Age','Na_to_K','Sex_F','BP_HIGH','BP_LOW','Cholesterol_HIGH','Drug']]"
   ]
  },
  {
   "cell_type": "code",
   "execution_count": 68,
   "id": "2fb7aa40-c7a9-4a13-9a24-dde450647eeb",
   "metadata": {},
   "outputs": [
    {
     "data": {
      "text/html": [
       "<div>\n",
       "<style scoped>\n",
       "    .dataframe tbody tr th:only-of-type {\n",
       "        vertical-align: middle;\n",
       "    }\n",
       "\n",
       "    .dataframe tbody tr th {\n",
       "        vertical-align: top;\n",
       "    }\n",
       "\n",
       "    .dataframe thead th {\n",
       "        text-align: right;\n",
       "    }\n",
       "</style>\n",
       "<table border=\"1\" class=\"dataframe\">\n",
       "  <thead>\n",
       "    <tr style=\"text-align: right;\">\n",
       "      <th></th>\n",
       "      <th>Age</th>\n",
       "      <th>Na_to_K</th>\n",
       "      <th>Sex_F</th>\n",
       "      <th>BP_HIGH</th>\n",
       "      <th>BP_LOW</th>\n",
       "      <th>Cholesterol_HIGH</th>\n",
       "      <th>Drug</th>\n",
       "    </tr>\n",
       "  </thead>\n",
       "  <tbody>\n",
       "    <tr>\n",
       "      <th>0</th>\n",
       "      <td>23</td>\n",
       "      <td>25.355</td>\n",
       "      <td>1</td>\n",
       "      <td>1</td>\n",
       "      <td>0</td>\n",
       "      <td>1</td>\n",
       "      <td>drugY</td>\n",
       "    </tr>\n",
       "    <tr>\n",
       "      <th>1</th>\n",
       "      <td>47</td>\n",
       "      <td>13.093</td>\n",
       "      <td>0</td>\n",
       "      <td>0</td>\n",
       "      <td>1</td>\n",
       "      <td>1</td>\n",
       "      <td>drugC</td>\n",
       "    </tr>\n",
       "    <tr>\n",
       "      <th>2</th>\n",
       "      <td>47</td>\n",
       "      <td>10.114</td>\n",
       "      <td>0</td>\n",
       "      <td>0</td>\n",
       "      <td>1</td>\n",
       "      <td>1</td>\n",
       "      <td>drugC</td>\n",
       "    </tr>\n",
       "    <tr>\n",
       "      <th>3</th>\n",
       "      <td>28</td>\n",
       "      <td>7.798</td>\n",
       "      <td>1</td>\n",
       "      <td>0</td>\n",
       "      <td>0</td>\n",
       "      <td>1</td>\n",
       "      <td>drugX</td>\n",
       "    </tr>\n",
       "    <tr>\n",
       "      <th>4</th>\n",
       "      <td>61</td>\n",
       "      <td>18.043</td>\n",
       "      <td>1</td>\n",
       "      <td>0</td>\n",
       "      <td>1</td>\n",
       "      <td>1</td>\n",
       "      <td>drugY</td>\n",
       "    </tr>\n",
       "    <tr>\n",
       "      <th>...</th>\n",
       "      <td>...</td>\n",
       "      <td>...</td>\n",
       "      <td>...</td>\n",
       "      <td>...</td>\n",
       "      <td>...</td>\n",
       "      <td>...</td>\n",
       "      <td>...</td>\n",
       "    </tr>\n",
       "    <tr>\n",
       "      <th>195</th>\n",
       "      <td>56</td>\n",
       "      <td>11.567</td>\n",
       "      <td>1</td>\n",
       "      <td>0</td>\n",
       "      <td>1</td>\n",
       "      <td>1</td>\n",
       "      <td>drugC</td>\n",
       "    </tr>\n",
       "    <tr>\n",
       "      <th>196</th>\n",
       "      <td>16</td>\n",
       "      <td>12.006</td>\n",
       "      <td>0</td>\n",
       "      <td>0</td>\n",
       "      <td>1</td>\n",
       "      <td>1</td>\n",
       "      <td>drugC</td>\n",
       "    </tr>\n",
       "    <tr>\n",
       "      <th>197</th>\n",
       "      <td>52</td>\n",
       "      <td>9.894</td>\n",
       "      <td>0</td>\n",
       "      <td>0</td>\n",
       "      <td>0</td>\n",
       "      <td>1</td>\n",
       "      <td>drugX</td>\n",
       "    </tr>\n",
       "    <tr>\n",
       "      <th>198</th>\n",
       "      <td>23</td>\n",
       "      <td>14.020</td>\n",
       "      <td>0</td>\n",
       "      <td>0</td>\n",
       "      <td>0</td>\n",
       "      <td>0</td>\n",
       "      <td>drugX</td>\n",
       "    </tr>\n",
       "    <tr>\n",
       "      <th>199</th>\n",
       "      <td>40</td>\n",
       "      <td>11.349</td>\n",
       "      <td>1</td>\n",
       "      <td>0</td>\n",
       "      <td>1</td>\n",
       "      <td>0</td>\n",
       "      <td>drugX</td>\n",
       "    </tr>\n",
       "  </tbody>\n",
       "</table>\n",
       "<p>200 rows × 7 columns</p>\n",
       "</div>"
      ],
      "text/plain": [
       "     Age  Na_to_K  Sex_F  BP_HIGH  BP_LOW  Cholesterol_HIGH   Drug\n",
       "0     23   25.355      1        1       0                 1  drugY\n",
       "1     47   13.093      0        0       1                 1  drugC\n",
       "2     47   10.114      0        0       1                 1  drugC\n",
       "3     28    7.798      1        0       0                 1  drugX\n",
       "4     61   18.043      1        0       1                 1  drugY\n",
       "..   ...      ...    ...      ...     ...               ...    ...\n",
       "195   56   11.567      1        0       1                 1  drugC\n",
       "196   16   12.006      0        0       1                 1  drugC\n",
       "197   52    9.894      0        0       0                 1  drugX\n",
       "198   23   14.020      0        0       0                 0  drugX\n",
       "199   40   11.349      1        0       1                 0  drugX\n",
       "\n",
       "[200 rows x 7 columns]"
      ]
     },
     "execution_count": 68,
     "metadata": {},
     "output_type": "execute_result"
    }
   ],
   "source": [
    "df_OVR2"
   ]
  },
  {
   "cell_type": "code",
   "execution_count": 71,
   "id": "0d139f28-fd96-4458-96f7-a1817c39130f",
   "metadata": {},
   "outputs": [],
   "source": [
    "x=df_OVR2.iloc[:,0:6]      # numpy vector from a pandas data frame; all rows, first n-1 columns\n",
    "y=df_OVR2.iloc[:,6:7]      # all rows, last col\n",
    "Y=y.to_numpy()\n",
    "X=x.to_numpy()\n",
    "Y=Y.flatten()     # so it's no longer 2-dimensional (X must stay 2-d, of course)\n",
    "\n"
   ]
  },
  {
   "cell_type": "markdown",
   "id": "8a8e35c9-5dda-4596-80c0-8fac8ee5b19a",
   "metadata": {},
   "source": [
    "Now to use first 100 for training and second 100 for testing."
   ]
  },
  {
   "cell_type": "code",
   "execution_count": 72,
   "id": "5d95c8f8-0f38-4203-99f9-950fb765a3c0",
   "metadata": {
    "tags": []
   },
   "outputs": [],
   "source": [
    "X_train = X[0:100,:]\n",
    "Y_train = Y[0:100]\n",
    "X_test = X[100:201,:]\n",
    "Y_test = Y[100:201]"
   ]
  },
  {
   "cell_type": "markdown",
   "id": "dd43c645-d360-43f8-9313-de39e93fb8aa",
   "metadata": {},
   "source": [
    "I'm using the default solver here, lbfgs, since it is one of the solvers available in the package that supports the multinomial option.  \n",
    "https://scikit-learn.org/stable/modules/generated/sklearn.linear_model.LogisticRegression.html"
   ]
  },
  {
   "cell_type": "code",
   "execution_count": 75,
   "id": "f737ddc1-4410-4be0-973e-399046874756",
   "metadata": {},
   "outputs": [
    {
     "name": "stderr",
     "output_type": "stream",
     "text": [
      "/Users/User/opt/anaconda3/lib/python3.8/site-packages/sklearn/linear_model/_logistic.py:763: ConvergenceWarning: lbfgs failed to converge (status=1):\n",
      "STOP: TOTAL NO. of ITERATIONS REACHED LIMIT.\n",
      "\n",
      "Increase the number of iterations (max_iter) or scale the data as shown in:\n",
      "    https://scikit-learn.org/stable/modules/preprocessing.html\n",
      "Please also refer to the documentation for alternative solver options:\n",
      "    https://scikit-learn.org/stable/modules/linear_model.html#logistic-regression\n",
      "  n_iter_i = _check_optimize_result(\n"
     ]
    },
    {
     "data": {
      "text/plain": [
       "array(['drugA', 'drugA', 'drugY', 'drugX', 'drugY', 'drugX', 'drugX',\n",
       "       'drugY', 'drugB', 'drugY'], dtype=object)"
      ]
     },
     "execution_count": 75,
     "metadata": {},
     "output_type": "execute_result"
    }
   ],
   "source": [
    "drug_fit = LogisticRegression(multi_class='multinomial').fit(X_train, Y_train)\n"
   ]
  },
  {
   "cell_type": "code",
   "execution_count": 76,
   "id": "14278326-c341-4aee-b256-366820e514ac",
   "metadata": {},
   "outputs": [
    {
     "data": {
      "text/plain": [
       "array(['drugA', 'drugA', 'drugY', 'drugX', 'drugY', 'drugX', 'drugX',\n",
       "       'drugY', 'drugB', 'drugY', 'drugB', 'drugX', 'drugX', 'drugX',\n",
       "       'drugX', 'drugY', 'drugX', 'drugX', 'drugA', 'drugY', 'drugY',\n",
       "       'drugY', 'drugY', 'drugY', 'drugB', 'drugY', 'drugB', 'drugX',\n",
       "       'drugY', 'drugX', 'drugY', 'drugY', 'drugX', 'drugY', 'drugY',\n",
       "       'drugX', 'drugB', 'drugA', 'drugB', 'drugX', 'drugB', 'drugY',\n",
       "       'drugB', 'drugB', 'drugA', 'drugX', 'drugX', 'drugA', 'drugX',\n",
       "       'drugC', 'drugB', 'drugB', 'drugX', 'drugX', 'drugY', 'drugC',\n",
       "       'drugA', 'drugY', 'drugC', 'drugY', 'drugX', 'drugB', 'drugX',\n",
       "       'drugY', 'drugY', 'drugY', 'drugY', 'drugX', 'drugY', 'drugA',\n",
       "       'drugY', 'drugX', 'drugY', 'drugY', 'drugA', 'drugY', 'drugB',\n",
       "       'drugY', 'drugY', 'drugY', 'drugY', 'drugX', 'drugY', 'drugY',\n",
       "       'drugY', 'drugY', 'drugB', 'drugB', 'drugY', 'drugY', 'drugY',\n",
       "       'drugA', 'drugY', 'drugC', 'drugY', 'drugC', 'drugY', 'drugX',\n",
       "       'drugY', 'drugX'], dtype=object)"
      ]
     },
     "execution_count": 76,
     "metadata": {},
     "output_type": "execute_result"
    }
   ],
   "source": [
    "drug_fit.predict(X_test[:,:])"
   ]
  },
  {
   "cell_type": "code",
   "execution_count": 74,
   "id": "f291a997-7c27-4199-9c95-d3f5c978816d",
   "metadata": {},
   "outputs": [
    {
     "data": {
      "text/plain": [
       "array(['drugA', 'drugA', 'drugC', 'drugX', 'drugY', 'drugX', 'drugX',\n",
       "       'drugY', 'drugB', 'drugY', 'drugA', 'drugX', 'drugX', 'drugX',\n",
       "       'drugX', 'drugY', 'drugX', 'drugX', 'drugA', 'drugY', 'drugY',\n",
       "       'drugY', 'drugY', 'drugY', 'drugB', 'drugY', 'drugY', 'drugX',\n",
       "       'drugY', 'drugX', 'drugY', 'drugY', 'drugX', 'drugY', 'drugY',\n",
       "       'drugX', 'drugB', 'drugA', 'drugB', 'drugX', 'drugA', 'drugY',\n",
       "       'drugB', 'drugY', 'drugA', 'drugX', 'drugX', 'drugA', 'drugX',\n",
       "       'drugC', 'drugA', 'drugB', 'drugX', 'drugX', 'drugY', 'drugC',\n",
       "       'drugA', 'drugY', 'drugC', 'drugX', 'drugX', 'drugB', 'drugX',\n",
       "       'drugY', 'drugY', 'drugY', 'drugY', 'drugX', 'drugY', 'drugA',\n",
       "       'drugX', 'drugX', 'drugY', 'drugY', 'drugA', 'drugY', 'drugA',\n",
       "       'drugY', 'drugY', 'drugY', 'drugY', 'drugX', 'drugX', 'drugY',\n",
       "       'drugY', 'drugY', 'drugB', 'drugA', 'drugY', 'drugY', 'drugY',\n",
       "       'drugA', 'drugY', 'drugC', 'drugY', 'drugC', 'drugC', 'drugX',\n",
       "       'drugX', 'drugX'], dtype=object)"
      ]
     },
     "execution_count": 74,
     "metadata": {},
     "output_type": "execute_result"
    }
   ],
   "source": [
    "Y_test"
   ]
  },
  {
   "cell_type": "markdown",
   "id": "fd9d511b-e199-40a2-9dbc-c4b9cfe16ecf",
   "metadata": {},
   "source": [
    "So our testing data produces 89% success rate.  How serious are the differences?  Do any of the 11 discrepancies violate any of our six rules that we saw in the box-and-whiskers plots?"
   ]
  },
  {
   "cell_type": "code",
   "execution_count": 90,
   "id": "82bd4a0e-969e-4f4d-aa25-f922a8aaebac",
   "metadata": {
    "tags": []
   },
   "outputs": [
    {
     "data": {
      "text/html": [
       "<div>\n",
       "<style scoped>\n",
       "    .dataframe tbody tr th:only-of-type {\n",
       "        vertical-align: middle;\n",
       "    }\n",
       "\n",
       "    .dataframe tbody tr th {\n",
       "        vertical-align: top;\n",
       "    }\n",
       "\n",
       "    .dataframe thead th {\n",
       "        text-align: right;\n",
       "    }\n",
       "</style>\n",
       "<table border=\"1\" class=\"dataframe\">\n",
       "  <thead>\n",
       "    <tr style=\"text-align: right;\">\n",
       "      <th></th>\n",
       "      <th>Age</th>\n",
       "      <th>Na_to_K</th>\n",
       "      <th>Sex_F</th>\n",
       "      <th>BP_HIGH</th>\n",
       "      <th>BP_LOW</th>\n",
       "      <th>Cholesterol_HIGH</th>\n",
       "      <th>Drug</th>\n",
       "    </tr>\n",
       "  </thead>\n",
       "  <tbody>\n",
       "    <tr>\n",
       "      <th>102</th>\n",
       "      <td>28</td>\n",
       "      <td>13.127</td>\n",
       "      <td>1</td>\n",
       "      <td>0</td>\n",
       "      <td>1</td>\n",
       "      <td>1</td>\n",
       "      <td>drugC</td>\n",
       "    </tr>\n",
       "    <tr>\n",
       "      <th>110</th>\n",
       "      <td>50</td>\n",
       "      <td>7.490</td>\n",
       "      <td>0</td>\n",
       "      <td>1</td>\n",
       "      <td>0</td>\n",
       "      <td>1</td>\n",
       "      <td>drugA</td>\n",
       "    </tr>\n",
       "    <tr>\n",
       "      <th>126</th>\n",
       "      <td>66</td>\n",
       "      <td>16.347</td>\n",
       "      <td>0</td>\n",
       "      <td>1</td>\n",
       "      <td>0</td>\n",
       "      <td>1</td>\n",
       "      <td>drugY</td>\n",
       "    </tr>\n",
       "    <tr>\n",
       "      <th>140</th>\n",
       "      <td>49</td>\n",
       "      <td>6.269</td>\n",
       "      <td>0</td>\n",
       "      <td>1</td>\n",
       "      <td>0</td>\n",
       "      <td>0</td>\n",
       "      <td>drugA</td>\n",
       "    </tr>\n",
       "    <tr>\n",
       "      <th>143</th>\n",
       "      <td>74</td>\n",
       "      <td>15.436</td>\n",
       "      <td>0</td>\n",
       "      <td>1</td>\n",
       "      <td>0</td>\n",
       "      <td>0</td>\n",
       "      <td>drugY</td>\n",
       "    </tr>\n",
       "    <tr>\n",
       "      <th>150</th>\n",
       "      <td>49</td>\n",
       "      <td>8.700</td>\n",
       "      <td>0</td>\n",
       "      <td>1</td>\n",
       "      <td>0</td>\n",
       "      <td>0</td>\n",
       "      <td>drugA</td>\n",
       "    </tr>\n",
       "    <tr>\n",
       "      <th>170</th>\n",
       "      <td>28</td>\n",
       "      <td>12.879</td>\n",
       "      <td>1</td>\n",
       "      <td>0</td>\n",
       "      <td>0</td>\n",
       "      <td>1</td>\n",
       "      <td>drugX</td>\n",
       "    </tr>\n",
       "    <tr>\n",
       "      <th>176</th>\n",
       "      <td>48</td>\n",
       "      <td>10.446</td>\n",
       "      <td>0</td>\n",
       "      <td>1</td>\n",
       "      <td>0</td>\n",
       "      <td>0</td>\n",
       "      <td>drugA</td>\n",
       "    </tr>\n",
       "    <tr>\n",
       "      <th>182</th>\n",
       "      <td>20</td>\n",
       "      <td>11.686</td>\n",
       "      <td>1</td>\n",
       "      <td>0</td>\n",
       "      <td>1</td>\n",
       "      <td>0</td>\n",
       "      <td>drugX</td>\n",
       "    </tr>\n",
       "    <tr>\n",
       "      <th>187</th>\n",
       "      <td>47</td>\n",
       "      <td>10.403</td>\n",
       "      <td>0</td>\n",
       "      <td>1</td>\n",
       "      <td>0</td>\n",
       "      <td>1</td>\n",
       "      <td>drugA</td>\n",
       "    </tr>\n",
       "    <tr>\n",
       "      <th>196</th>\n",
       "      <td>16</td>\n",
       "      <td>12.006</td>\n",
       "      <td>0</td>\n",
       "      <td>0</td>\n",
       "      <td>1</td>\n",
       "      <td>1</td>\n",
       "      <td>drugC</td>\n",
       "    </tr>\n",
       "    <tr>\n",
       "      <th>198</th>\n",
       "      <td>23</td>\n",
       "      <td>14.020</td>\n",
       "      <td>0</td>\n",
       "      <td>0</td>\n",
       "      <td>0</td>\n",
       "      <td>0</td>\n",
       "      <td>drugX</td>\n",
       "    </tr>\n",
       "  </tbody>\n",
       "</table>\n",
       "</div>"
      ],
      "text/plain": [
       "     Age  Na_to_K  Sex_F  BP_HIGH  BP_LOW  Cholesterol_HIGH   Drug\n",
       "102   28   13.127      1        0       1                 1  drugC\n",
       "110   50    7.490      0        1       0                 1  drugA\n",
       "126   66   16.347      0        1       0                 1  drugY\n",
       "140   49    6.269      0        1       0                 0  drugA\n",
       "143   74   15.436      0        1       0                 0  drugY\n",
       "150   49    8.700      0        1       0                 0  drugA\n",
       "170   28   12.879      1        0       0                 1  drugX\n",
       "176   48   10.446      0        1       0                 0  drugA\n",
       "182   20   11.686      1        0       1                 0  drugX\n",
       "187   47   10.403      0        1       0                 1  drugA\n",
       "196   16   12.006      0        0       1                 1  drugC\n",
       "198   23   14.020      0        0       0                 0  drugX"
      ]
     },
     "execution_count": 90,
     "metadata": {},
     "output_type": "execute_result"
    }
   ],
   "source": [
    "list1=[102,110,126,140,143,150,170,176,182,187,196,198]\n",
    "df_OVR2.loc[list1]"
   ]
  },
  {
   "cell_type": "code",
   "execution_count": 89,
   "id": "d8ea9d0e-f569-47b8-8116-300947237c08",
   "metadata": {},
   "outputs": [
    {
     "data": {
      "text/plain": [
       "array([[28.   , 13.127,  1.   ,  0.   ,  1.   ,  1.   ],\n",
       "       [50.   ,  7.49 ,  0.   ,  1.   ,  0.   ,  1.   ],\n",
       "       [66.   , 16.347,  0.   ,  1.   ,  0.   ,  1.   ],\n",
       "       [49.   ,  6.269,  0.   ,  1.   ,  0.   ,  0.   ],\n",
       "       [74.   , 15.436,  0.   ,  1.   ,  0.   ,  0.   ],\n",
       "       [49.   ,  8.7  ,  0.   ,  1.   ,  0.   ,  0.   ],\n",
       "       [28.   , 12.879,  1.   ,  0.   ,  0.   ,  1.   ],\n",
       "       [48.   , 10.446,  0.   ,  1.   ,  0.   ,  0.   ],\n",
       "       [20.   , 11.686,  1.   ,  0.   ,  1.   ,  0.   ],\n",
       "       [47.   , 10.403,  0.   ,  1.   ,  0.   ,  1.   ],\n",
       "       [16.   , 12.006,  0.   ,  0.   ,  1.   ,  1.   ],\n",
       "       [23.   , 14.02 ,  0.   ,  0.   ,  0.   ,  0.   ]])"
      ]
     },
     "execution_count": 89,
     "metadata": {},
     "output_type": "execute_result"
    }
   ],
   "source": [
    "list2=[2,10,26,40,43,50,70,76,82,87,96,98]\n",
    "X_test2 = X_test[list2]\n",
    "X_test2"
   ]
  },
  {
   "cell_type": "code",
   "execution_count": 88,
   "id": "0a320bf3-a677-4515-bd30-7e6c88f99526",
   "metadata": {},
   "outputs": [
    {
     "data": {
      "text/plain": [
       "array(['drugY', 'drugB', 'drugB', 'drugB', 'drugB', 'drugB', 'drugY',\n",
       "       'drugB', 'drugY', 'drugB', 'drugY', 'drugY'], dtype=object)"
      ]
     },
     "execution_count": 88,
     "metadata": {},
     "output_type": "execute_result"
    }
   ],
   "source": [
    "drug_fit.predict(X_test2[:,:])"
   ]
  },
  {
   "cell_type": "markdown",
   "id": "7822c4b8-1320-4882-b92c-d1e124c2a2c4",
   "metadata": {},
   "source": [
    "So we see a pattern.  All the incorrect predictions are Y and B.  \n",
    "If we review our rules from earlier, Y should be given only if the Na:K ratio is at least 15.  So this rule that we picked up on earlier is being violated.\n",
    "What about all these predictions for B?  Did we establish a rule against those?\n",
    "Predicting B is okay here in terms of blood pressure.  (Our rule was that B should only be prescribed if BP is high.)\n",
    "In terms of age, our 50-year-old cutoff was violated only for index 150.\n",
    "So there's nothing here to strongly preclude these drug B predictions.  \n",
    "But two patients were predicted to need B when their Na:K is above 15 (indices 126 and 143).  So we're right back to the trouble with Y again.\n",
    "I think the incorrect B predictions are just because the model is underdetermined.  An additional feature is likely needed.\n",
    "\n",
    "Next steps? Run more iterations, remove gender, or run a model with interactions.  An interactions model might be the best bet, since one variable (Na:K) taking precedence over all others is above a certain value is not something that lends itself to a model with several features.  We'd have to leave behind sklearn for patsy, though."
   ]
  },
  {
   "cell_type": "markdown",
   "id": "febfc5b7-0e2c-42af-8bea-45a756cafa83",
   "metadata": {},
   "source": [
    "Before we rerun the above without gender, can we perform a diagnostic that supports such a move?"
   ]
  },
  {
   "cell_type": "code",
   "execution_count": 91,
   "id": "5679970e-a16a-4ea5-bfed-1efba7289994",
   "metadata": {},
   "outputs": [
    {
     "data": {
      "text/plain": [
       "0.95"
      ]
     },
     "execution_count": 91,
     "metadata": {},
     "output_type": "execute_result"
    }
   ],
   "source": [
    "drug_fit.score(X_train, Y_train)"
   ]
  },
  {
   "cell_type": "markdown",
   "id": "e5198edb-ac6f-48fb-b934-b49119446ad5",
   "metadata": {},
   "source": [
    "The score method in sklearn.linear_model.LogisticRegression returns accuracy.  \n",
    "https://towardsdatascience.com/logistic-regression-using-python-sklearn-numpy-mnist-handwriting-recognition-matplotlib-a6b31e2b166a\n",
    "\n",
    "So our training accuracy was 95% while our test accuracy was 89%."
   ]
  },
  {
   "cell_type": "code",
   "execution_count": 94,
   "id": "75e869cc-14d3-4a80-83fd-f862a5043a1c",
   "metadata": {},
   "outputs": [],
   "source": [
    "from sklearn import metrics"
   ]
  },
  {
   "cell_type": "code",
   "execution_count": 95,
   "id": "7496720d-ee90-4c31-8b41-b61ddd0e5b57",
   "metadata": {
    "tags": []
   },
   "outputs": [
    {
     "data": {
      "text/plain": [
       "array([[10,  5,  0,  0,  0],\n",
       "       [ 0,  8,  0,  0,  0],\n",
       "       [ 0,  0,  5,  0,  2],\n",
       "       [ 0,  0,  0, 26,  4],\n",
       "       [ 0,  2,  0,  0, 38]])"
      ]
     },
     "execution_count": 95,
     "metadata": {},
     "output_type": "execute_result"
    }
   ],
   "source": [
    "metrics.confusion_matrix(Y_test, drug_fit.predict(X_test[:,:]))"
   ]
  },
  {
   "cell_type": "markdown",
   "id": "a798cee2-e0bb-423e-988c-7469a897169a",
   "metadata": {},
   "source": [
    "This seems to say the accuracy for the test data was actually only 87%, so I missed two discrepancies in the predictions.\n",
    "https://towardsdatascience.com/logistic-regression-using-python-sklearn-numpy-mnist-handwriting-recognition-matplotlib-a6b31e2b166a"
   ]
  },
  {
   "cell_type": "markdown",
   "id": "6fc6e116-e93b-4ad3-a7c4-fe9a3721cf89",
   "metadata": {},
   "source": [
    "sklearn LogisticRegression doesn't have a built-in p-value function, so I'll instead just pull out gender to see if accuracy improves.  While doing this, I'll increase the number of iterations and randomize the testing and training data.  Of course, then I'm not really comparing with and without gender fairly, but when the model's this explanatory, 3-4 explanatory variables is considered sufficient, especially with support from the EDA."
   ]
  },
  {
   "cell_type": "code",
   "execution_count": 96,
   "id": "f7360ccb-d4b7-4a8a-92f2-68333fa1a70e",
   "metadata": {},
   "outputs": [],
   "source": [
    "df_OVR3 = df_OVR2[['Age','Na_to_K','BP_HIGH','BP_LOW','Cholesterol_HIGH','Drug']]"
   ]
  },
  {
   "cell_type": "markdown",
   "id": "501d4ec8-bbec-4265-87c3-1fb45fc1c254",
   "metadata": {},
   "source": [
    "Before I pull off independent and dependent columns, thus separating them, I need to pull off rows randomly.  If I split up the ind't and dep't columns first, then I don't know that the same rows will be randomly pulled off, nor in what order, and so I couldn't match input to output."
   ]
  },
  {
   "cell_type": "code",
   "execution_count": 127,
   "id": "33c96b7c-c936-4f83-94e6-fe5de5a25729",
   "metadata": {
    "tags": []
   },
   "outputs": [],
   "source": [
    "test_rand = df_OVR3.sample(n = 100)\n",
    "train_rand = df_OVR3.sample(n = 100)"
   ]
  },
  {
   "cell_type": "code",
   "execution_count": 128,
   "id": "c775bede-c2e4-4ecb-8468-78fc2a463682",
   "metadata": {},
   "outputs": [
    {
     "data": {
      "text/html": [
       "<div>\n",
       "<style scoped>\n",
       "    .dataframe tbody tr th:only-of-type {\n",
       "        vertical-align: middle;\n",
       "    }\n",
       "\n",
       "    .dataframe tbody tr th {\n",
       "        vertical-align: top;\n",
       "    }\n",
       "\n",
       "    .dataframe thead th {\n",
       "        text-align: right;\n",
       "    }\n",
       "</style>\n",
       "<table border=\"1\" class=\"dataframe\">\n",
       "  <thead>\n",
       "    <tr style=\"text-align: right;\">\n",
       "      <th></th>\n",
       "      <th>Age</th>\n",
       "      <th>Na_to_K</th>\n",
       "      <th>BP_HIGH</th>\n",
       "      <th>BP_LOW</th>\n",
       "      <th>Cholesterol_HIGH</th>\n",
       "      <th>Drug</th>\n",
       "    </tr>\n",
       "  </thead>\n",
       "  <tbody>\n",
       "    <tr>\n",
       "      <th>113</th>\n",
       "      <td>65</td>\n",
       "      <td>13.769</td>\n",
       "      <td>0</td>\n",
       "      <td>1</td>\n",
       "      <td>0</td>\n",
       "      <td>drugX</td>\n",
       "    </tr>\n",
       "    <tr>\n",
       "      <th>42</th>\n",
       "      <td>50</td>\n",
       "      <td>15.790</td>\n",
       "      <td>0</td>\n",
       "      <td>0</td>\n",
       "      <td>0</td>\n",
       "      <td>drugY</td>\n",
       "    </tr>\n",
       "    <tr>\n",
       "      <th>80</th>\n",
       "      <td>60</td>\n",
       "      <td>13.934</td>\n",
       "      <td>1</td>\n",
       "      <td>0</td>\n",
       "      <td>1</td>\n",
       "      <td>drugB</td>\n",
       "    </tr>\n",
       "    <tr>\n",
       "      <th>53</th>\n",
       "      <td>24</td>\n",
       "      <td>18.457</td>\n",
       "      <td>1</td>\n",
       "      <td>0</td>\n",
       "      <td>0</td>\n",
       "      <td>drugY</td>\n",
       "    </tr>\n",
       "    <tr>\n",
       "      <th>69</th>\n",
       "      <td>18</td>\n",
       "      <td>24.276</td>\n",
       "      <td>1</td>\n",
       "      <td>0</td>\n",
       "      <td>0</td>\n",
       "      <td>drugY</td>\n",
       "    </tr>\n",
       "    <tr>\n",
       "      <th>...</th>\n",
       "      <td>...</td>\n",
       "      <td>...</td>\n",
       "      <td>...</td>\n",
       "      <td>...</td>\n",
       "      <td>...</td>\n",
       "      <td>...</td>\n",
       "    </tr>\n",
       "    <tr>\n",
       "      <th>7</th>\n",
       "      <td>41</td>\n",
       "      <td>11.037</td>\n",
       "      <td>0</td>\n",
       "      <td>1</td>\n",
       "      <td>1</td>\n",
       "      <td>drugC</td>\n",
       "    </tr>\n",
       "    <tr>\n",
       "      <th>73</th>\n",
       "      <td>41</td>\n",
       "      <td>22.905</td>\n",
       "      <td>0</td>\n",
       "      <td>0</td>\n",
       "      <td>0</td>\n",
       "      <td>drugY</td>\n",
       "    </tr>\n",
       "    <tr>\n",
       "      <th>122</th>\n",
       "      <td>34</td>\n",
       "      <td>22.456</td>\n",
       "      <td>0</td>\n",
       "      <td>0</td>\n",
       "      <td>1</td>\n",
       "      <td>drugY</td>\n",
       "    </tr>\n",
       "    <tr>\n",
       "      <th>75</th>\n",
       "      <td>26</td>\n",
       "      <td>20.909</td>\n",
       "      <td>0</td>\n",
       "      <td>1</td>\n",
       "      <td>0</td>\n",
       "      <td>drugY</td>\n",
       "    </tr>\n",
       "    <tr>\n",
       "      <th>90</th>\n",
       "      <td>62</td>\n",
       "      <td>16.594</td>\n",
       "      <td>0</td>\n",
       "      <td>0</td>\n",
       "      <td>1</td>\n",
       "      <td>drugY</td>\n",
       "    </tr>\n",
       "  </tbody>\n",
       "</table>\n",
       "<p>100 rows × 6 columns</p>\n",
       "</div>"
      ],
      "text/plain": [
       "     Age  Na_to_K  BP_HIGH  BP_LOW  Cholesterol_HIGH   Drug\n",
       "113   65   13.769        0       1                 0  drugX\n",
       "42    50   15.790        0       0                 0  drugY\n",
       "80    60   13.934        1       0                 1  drugB\n",
       "53    24   18.457        1       0                 0  drugY\n",
       "69    18   24.276        1       0                 0  drugY\n",
       "..   ...      ...      ...     ...               ...    ...\n",
       "7     41   11.037        0       1                 1  drugC\n",
       "73    41   22.905        0       0                 0  drugY\n",
       "122   34   22.456        0       0                 1  drugY\n",
       "75    26   20.909        0       1                 0  drugY\n",
       "90    62   16.594        0       0                 1  drugY\n",
       "\n",
       "[100 rows x 6 columns]"
      ]
     },
     "execution_count": 128,
     "metadata": {},
     "output_type": "execute_result"
    }
   ],
   "source": [
    "test_rand"
   ]
  },
  {
   "cell_type": "markdown",
   "id": "2e0a2dba-3e3c-4b04-9d66-540df7b490bf",
   "metadata": {},
   "source": [
    "The previous error message with respect to convergence suggested scaling.  Perhaps lack of scaling inhibited proper processing of drug Y as having a significant cutoff at an Na:K ratio of 50."
   ]
  },
  {
   "cell_type": "code",
   "execution_count": 129,
   "id": "55bea94f-49c9-4ff5-aff2-4c9e715ae5b5",
   "metadata": {},
   "outputs": [
    {
     "name": "stdout",
     "output_type": "stream",
     "text": [
      "45.46\n",
      "16.18480394653821\n"
     ]
    }
   ],
   "source": [
    "print(train_rand['Age'].mean());\n",
    "print(train_rand['Age'].std());"
   ]
  },
  {
   "cell_type": "code",
   "execution_count": 130,
   "id": "b8957b2f-284c-434c-9db2-a0db0ac17bbe",
   "metadata": {},
   "outputs": [],
   "source": [
    "train_rand['Age']=(train_rand['Age']-45)/15"
   ]
  },
  {
   "cell_type": "code",
   "execution_count": 131,
   "id": "1de66bb6-8c24-48d0-a03a-b23498901e62",
   "metadata": {},
   "outputs": [
    {
     "data": {
      "text/html": [
       "<div>\n",
       "<style scoped>\n",
       "    .dataframe tbody tr th:only-of-type {\n",
       "        vertical-align: middle;\n",
       "    }\n",
       "\n",
       "    .dataframe tbody tr th {\n",
       "        vertical-align: top;\n",
       "    }\n",
       "\n",
       "    .dataframe thead th {\n",
       "        text-align: right;\n",
       "    }\n",
       "</style>\n",
       "<table border=\"1\" class=\"dataframe\">\n",
       "  <thead>\n",
       "    <tr style=\"text-align: right;\">\n",
       "      <th></th>\n",
       "      <th>Age</th>\n",
       "      <th>Na_to_K</th>\n",
       "      <th>BP_HIGH</th>\n",
       "      <th>BP_LOW</th>\n",
       "      <th>Cholesterol_HIGH</th>\n",
       "      <th>Drug</th>\n",
       "    </tr>\n",
       "  </thead>\n",
       "  <tbody>\n",
       "    <tr>\n",
       "      <th>9</th>\n",
       "      <td>-0.133333</td>\n",
       "      <td>19.368</td>\n",
       "      <td>0</td>\n",
       "      <td>1</td>\n",
       "      <td>0</td>\n",
       "      <td>drugY</td>\n",
       "    </tr>\n",
       "    <tr>\n",
       "      <th>36</th>\n",
       "      <td>-0.866667</td>\n",
       "      <td>9.445</td>\n",
       "      <td>1</td>\n",
       "      <td>0</td>\n",
       "      <td>0</td>\n",
       "      <td>drugA</td>\n",
       "    </tr>\n",
       "    <tr>\n",
       "      <th>150</th>\n",
       "      <td>0.266667</td>\n",
       "      <td>8.700</td>\n",
       "      <td>1</td>\n",
       "      <td>0</td>\n",
       "      <td>0</td>\n",
       "      <td>drugA</td>\n",
       "    </tr>\n",
       "    <tr>\n",
       "      <th>123</th>\n",
       "      <td>-0.600000</td>\n",
       "      <td>16.753</td>\n",
       "      <td>0</td>\n",
       "      <td>0</td>\n",
       "      <td>1</td>\n",
       "      <td>drugY</td>\n",
       "    </tr>\n",
       "    <tr>\n",
       "      <th>38</th>\n",
       "      <td>-0.400000</td>\n",
       "      <td>9.709</td>\n",
       "      <td>0</td>\n",
       "      <td>0</td>\n",
       "      <td>0</td>\n",
       "      <td>drugX</td>\n",
       "    </tr>\n",
       "    <tr>\n",
       "      <th>...</th>\n",
       "      <td>...</td>\n",
       "      <td>...</td>\n",
       "      <td>...</td>\n",
       "      <td>...</td>\n",
       "      <td>...</td>\n",
       "      <td>...</td>\n",
       "    </tr>\n",
       "    <tr>\n",
       "      <th>169</th>\n",
       "      <td>-1.666667</td>\n",
       "      <td>11.262</td>\n",
       "      <td>1</td>\n",
       "      <td>0</td>\n",
       "      <td>1</td>\n",
       "      <td>drugA</td>\n",
       "    </tr>\n",
       "    <tr>\n",
       "      <th>137</th>\n",
       "      <td>-0.666667</td>\n",
       "      <td>12.894</td>\n",
       "      <td>1</td>\n",
       "      <td>0</td>\n",
       "      <td>1</td>\n",
       "      <td>drugA</td>\n",
       "    </tr>\n",
       "    <tr>\n",
       "      <th>39</th>\n",
       "      <td>-2.000000</td>\n",
       "      <td>9.084</td>\n",
       "      <td>0</td>\n",
       "      <td>0</td>\n",
       "      <td>1</td>\n",
       "      <td>drugX</td>\n",
       "    </tr>\n",
       "    <tr>\n",
       "      <th>88</th>\n",
       "      <td>-0.533333</td>\n",
       "      <td>23.091</td>\n",
       "      <td>1</td>\n",
       "      <td>0</td>\n",
       "      <td>0</td>\n",
       "      <td>drugY</td>\n",
       "    </tr>\n",
       "    <tr>\n",
       "      <th>44</th>\n",
       "      <td>0.333333</td>\n",
       "      <td>12.295</td>\n",
       "      <td>0</td>\n",
       "      <td>0</td>\n",
       "      <td>0</td>\n",
       "      <td>drugX</td>\n",
       "    </tr>\n",
       "  </tbody>\n",
       "</table>\n",
       "<p>100 rows × 6 columns</p>\n",
       "</div>"
      ],
      "text/plain": [
       "          Age  Na_to_K  BP_HIGH  BP_LOW  Cholesterol_HIGH   Drug\n",
       "9   -0.133333   19.368        0       1                 0  drugY\n",
       "36  -0.866667    9.445        1       0                 0  drugA\n",
       "150  0.266667    8.700        1       0                 0  drugA\n",
       "123 -0.600000   16.753        0       0                 1  drugY\n",
       "38  -0.400000    9.709        0       0                 0  drugX\n",
       "..        ...      ...      ...     ...               ...    ...\n",
       "169 -1.666667   11.262        1       0                 1  drugA\n",
       "137 -0.666667   12.894        1       0                 1  drugA\n",
       "39  -2.000000    9.084        0       0                 1  drugX\n",
       "88  -0.533333   23.091        1       0                 0  drugY\n",
       "44   0.333333   12.295        0       0                 0  drugX\n",
       "\n",
       "[100 rows x 6 columns]"
      ]
     },
     "execution_count": 131,
     "metadata": {},
     "output_type": "execute_result"
    }
   ],
   "source": [
    "train_rand"
   ]
  },
  {
   "cell_type": "code",
   "execution_count": 132,
   "id": "1910db1e-ea63-47fe-aae7-e7c39095501f",
   "metadata": {
    "tags": []
   },
   "outputs": [],
   "source": [
    "test_rand['Age']=(test_rand['Age']-45)/15"
   ]
  },
  {
   "cell_type": "code",
   "execution_count": 133,
   "id": "e81f6812-0f9d-471b-a396-a2dd3cf1ee1b",
   "metadata": {
    "tags": []
   },
   "outputs": [
    {
     "name": "stdout",
     "output_type": "stream",
     "text": [
      "15.465710000000001\n",
      "6.629633788345762\n"
     ]
    }
   ],
   "source": [
    "print(train_rand['Na_to_K'].mean());\n",
    "print(train_rand['Na_to_K'].std());"
   ]
  },
  {
   "cell_type": "code",
   "execution_count": 134,
   "id": "bb274527-96d7-460a-babd-3467edeb830d",
   "metadata": {},
   "outputs": [],
   "source": [
    "train_rand['Na_to_K']=(train_rand['Na_to_K']-15)/7\n",
    "test_rand['Na_to_K']=(test_rand['Na_to_K']-15)/7"
   ]
  },
  {
   "cell_type": "code",
   "execution_count": 136,
   "id": "2e077a4a-47cd-48ec-8e36-c187c166990b",
   "metadata": {},
   "outputs": [
    {
     "data": {
      "text/html": [
       "<div>\n",
       "<style scoped>\n",
       "    .dataframe tbody tr th:only-of-type {\n",
       "        vertical-align: middle;\n",
       "    }\n",
       "\n",
       "    .dataframe tbody tr th {\n",
       "        vertical-align: top;\n",
       "    }\n",
       "\n",
       "    .dataframe thead th {\n",
       "        text-align: right;\n",
       "    }\n",
       "</style>\n",
       "<table border=\"1\" class=\"dataframe\">\n",
       "  <thead>\n",
       "    <tr style=\"text-align: right;\">\n",
       "      <th></th>\n",
       "      <th>Age</th>\n",
       "      <th>Na_to_K</th>\n",
       "      <th>BP_HIGH</th>\n",
       "      <th>BP_LOW</th>\n",
       "      <th>Cholesterol_HIGH</th>\n",
       "      <th>Drug</th>\n",
       "    </tr>\n",
       "  </thead>\n",
       "  <tbody>\n",
       "    <tr>\n",
       "      <th>9</th>\n",
       "      <td>-0.133333</td>\n",
       "      <td>0.624000</td>\n",
       "      <td>0</td>\n",
       "      <td>1</td>\n",
       "      <td>0</td>\n",
       "      <td>drugY</td>\n",
       "    </tr>\n",
       "    <tr>\n",
       "      <th>36</th>\n",
       "      <td>-0.866667</td>\n",
       "      <td>-0.793571</td>\n",
       "      <td>1</td>\n",
       "      <td>0</td>\n",
       "      <td>0</td>\n",
       "      <td>drugA</td>\n",
       "    </tr>\n",
       "    <tr>\n",
       "      <th>150</th>\n",
       "      <td>0.266667</td>\n",
       "      <td>-0.900000</td>\n",
       "      <td>1</td>\n",
       "      <td>0</td>\n",
       "      <td>0</td>\n",
       "      <td>drugA</td>\n",
       "    </tr>\n",
       "    <tr>\n",
       "      <th>123</th>\n",
       "      <td>-0.600000</td>\n",
       "      <td>0.250429</td>\n",
       "      <td>0</td>\n",
       "      <td>0</td>\n",
       "      <td>1</td>\n",
       "      <td>drugY</td>\n",
       "    </tr>\n",
       "    <tr>\n",
       "      <th>38</th>\n",
       "      <td>-0.400000</td>\n",
       "      <td>-0.755857</td>\n",
       "      <td>0</td>\n",
       "      <td>0</td>\n",
       "      <td>0</td>\n",
       "      <td>drugX</td>\n",
       "    </tr>\n",
       "    <tr>\n",
       "      <th>...</th>\n",
       "      <td>...</td>\n",
       "      <td>...</td>\n",
       "      <td>...</td>\n",
       "      <td>...</td>\n",
       "      <td>...</td>\n",
       "      <td>...</td>\n",
       "    </tr>\n",
       "    <tr>\n",
       "      <th>169</th>\n",
       "      <td>-1.666667</td>\n",
       "      <td>-0.534000</td>\n",
       "      <td>1</td>\n",
       "      <td>0</td>\n",
       "      <td>1</td>\n",
       "      <td>drugA</td>\n",
       "    </tr>\n",
       "    <tr>\n",
       "      <th>137</th>\n",
       "      <td>-0.666667</td>\n",
       "      <td>-0.300857</td>\n",
       "      <td>1</td>\n",
       "      <td>0</td>\n",
       "      <td>1</td>\n",
       "      <td>drugA</td>\n",
       "    </tr>\n",
       "    <tr>\n",
       "      <th>39</th>\n",
       "      <td>-2.000000</td>\n",
       "      <td>-0.845143</td>\n",
       "      <td>0</td>\n",
       "      <td>0</td>\n",
       "      <td>1</td>\n",
       "      <td>drugX</td>\n",
       "    </tr>\n",
       "    <tr>\n",
       "      <th>88</th>\n",
       "      <td>-0.533333</td>\n",
       "      <td>1.155857</td>\n",
       "      <td>1</td>\n",
       "      <td>0</td>\n",
       "      <td>0</td>\n",
       "      <td>drugY</td>\n",
       "    </tr>\n",
       "    <tr>\n",
       "      <th>44</th>\n",
       "      <td>0.333333</td>\n",
       "      <td>-0.386429</td>\n",
       "      <td>0</td>\n",
       "      <td>0</td>\n",
       "      <td>0</td>\n",
       "      <td>drugX</td>\n",
       "    </tr>\n",
       "  </tbody>\n",
       "</table>\n",
       "<p>100 rows × 6 columns</p>\n",
       "</div>"
      ],
      "text/plain": [
       "          Age   Na_to_K  BP_HIGH  BP_LOW  Cholesterol_HIGH   Drug\n",
       "9   -0.133333  0.624000        0       1                 0  drugY\n",
       "36  -0.866667 -0.793571        1       0                 0  drugA\n",
       "150  0.266667 -0.900000        1       0                 0  drugA\n",
       "123 -0.600000  0.250429        0       0                 1  drugY\n",
       "38  -0.400000 -0.755857        0       0                 0  drugX\n",
       "..        ...       ...      ...     ...               ...    ...\n",
       "169 -1.666667 -0.534000        1       0                 1  drugA\n",
       "137 -0.666667 -0.300857        1       0                 1  drugA\n",
       "39  -2.000000 -0.845143        0       0                 1  drugX\n",
       "88  -0.533333  1.155857        1       0                 0  drugY\n",
       "44   0.333333 -0.386429        0       0                 0  drugX\n",
       "\n",
       "[100 rows x 6 columns]"
      ]
     },
     "execution_count": 136,
     "metadata": {},
     "output_type": "execute_result"
    }
   ],
   "source": [
    "train_rand\n"
   ]
  },
  {
   "cell_type": "code",
   "execution_count": 137,
   "id": "5418c9ae-f454-45bc-b5ad-a07448d36ab2",
   "metadata": {},
   "outputs": [
    {
     "data": {
      "text/html": [
       "<div>\n",
       "<style scoped>\n",
       "    .dataframe tbody tr th:only-of-type {\n",
       "        vertical-align: middle;\n",
       "    }\n",
       "\n",
       "    .dataframe tbody tr th {\n",
       "        vertical-align: top;\n",
       "    }\n",
       "\n",
       "    .dataframe thead th {\n",
       "        text-align: right;\n",
       "    }\n",
       "</style>\n",
       "<table border=\"1\" class=\"dataframe\">\n",
       "  <thead>\n",
       "    <tr style=\"text-align: right;\">\n",
       "      <th></th>\n",
       "      <th>Age</th>\n",
       "      <th>Na_to_K</th>\n",
       "      <th>BP_HIGH</th>\n",
       "      <th>BP_LOW</th>\n",
       "      <th>Cholesterol_HIGH</th>\n",
       "      <th>Drug</th>\n",
       "    </tr>\n",
       "  </thead>\n",
       "  <tbody>\n",
       "    <tr>\n",
       "      <th>113</th>\n",
       "      <td>1.333333</td>\n",
       "      <td>-0.175857</td>\n",
       "      <td>0</td>\n",
       "      <td>1</td>\n",
       "      <td>0</td>\n",
       "      <td>drugX</td>\n",
       "    </tr>\n",
       "    <tr>\n",
       "      <th>42</th>\n",
       "      <td>0.333333</td>\n",
       "      <td>0.112857</td>\n",
       "      <td>0</td>\n",
       "      <td>0</td>\n",
       "      <td>0</td>\n",
       "      <td>drugY</td>\n",
       "    </tr>\n",
       "    <tr>\n",
       "      <th>80</th>\n",
       "      <td>1.000000</td>\n",
       "      <td>-0.152286</td>\n",
       "      <td>1</td>\n",
       "      <td>0</td>\n",
       "      <td>1</td>\n",
       "      <td>drugB</td>\n",
       "    </tr>\n",
       "    <tr>\n",
       "      <th>53</th>\n",
       "      <td>-1.400000</td>\n",
       "      <td>0.493857</td>\n",
       "      <td>1</td>\n",
       "      <td>0</td>\n",
       "      <td>0</td>\n",
       "      <td>drugY</td>\n",
       "    </tr>\n",
       "    <tr>\n",
       "      <th>69</th>\n",
       "      <td>-1.800000</td>\n",
       "      <td>1.325143</td>\n",
       "      <td>1</td>\n",
       "      <td>0</td>\n",
       "      <td>0</td>\n",
       "      <td>drugY</td>\n",
       "    </tr>\n",
       "    <tr>\n",
       "      <th>...</th>\n",
       "      <td>...</td>\n",
       "      <td>...</td>\n",
       "      <td>...</td>\n",
       "      <td>...</td>\n",
       "      <td>...</td>\n",
       "      <td>...</td>\n",
       "    </tr>\n",
       "    <tr>\n",
       "      <th>7</th>\n",
       "      <td>-0.266667</td>\n",
       "      <td>-0.566143</td>\n",
       "      <td>0</td>\n",
       "      <td>1</td>\n",
       "      <td>1</td>\n",
       "      <td>drugC</td>\n",
       "    </tr>\n",
       "    <tr>\n",
       "      <th>73</th>\n",
       "      <td>-0.266667</td>\n",
       "      <td>1.129286</td>\n",
       "      <td>0</td>\n",
       "      <td>0</td>\n",
       "      <td>0</td>\n",
       "      <td>drugY</td>\n",
       "    </tr>\n",
       "    <tr>\n",
       "      <th>122</th>\n",
       "      <td>-0.733333</td>\n",
       "      <td>1.065143</td>\n",
       "      <td>0</td>\n",
       "      <td>0</td>\n",
       "      <td>1</td>\n",
       "      <td>drugY</td>\n",
       "    </tr>\n",
       "    <tr>\n",
       "      <th>75</th>\n",
       "      <td>-1.266667</td>\n",
       "      <td>0.844143</td>\n",
       "      <td>0</td>\n",
       "      <td>1</td>\n",
       "      <td>0</td>\n",
       "      <td>drugY</td>\n",
       "    </tr>\n",
       "    <tr>\n",
       "      <th>90</th>\n",
       "      <td>1.133333</td>\n",
       "      <td>0.227714</td>\n",
       "      <td>0</td>\n",
       "      <td>0</td>\n",
       "      <td>1</td>\n",
       "      <td>drugY</td>\n",
       "    </tr>\n",
       "  </tbody>\n",
       "</table>\n",
       "<p>100 rows × 6 columns</p>\n",
       "</div>"
      ],
      "text/plain": [
       "          Age   Na_to_K  BP_HIGH  BP_LOW  Cholesterol_HIGH   Drug\n",
       "113  1.333333 -0.175857        0       1                 0  drugX\n",
       "42   0.333333  0.112857        0       0                 0  drugY\n",
       "80   1.000000 -0.152286        1       0                 1  drugB\n",
       "53  -1.400000  0.493857        1       0                 0  drugY\n",
       "69  -1.800000  1.325143        1       0                 0  drugY\n",
       "..        ...       ...      ...     ...               ...    ...\n",
       "7   -0.266667 -0.566143        0       1                 1  drugC\n",
       "73  -0.266667  1.129286        0       0                 0  drugY\n",
       "122 -0.733333  1.065143        0       0                 1  drugY\n",
       "75  -1.266667  0.844143        0       1                 0  drugY\n",
       "90   1.133333  0.227714        0       0                 1  drugY\n",
       "\n",
       "[100 rows x 6 columns]"
      ]
     },
     "execution_count": 137,
     "metadata": {},
     "output_type": "execute_result"
    }
   ],
   "source": [
    "test_rand"
   ]
  },
  {
   "cell_type": "code",
   "execution_count": 138,
   "id": "dc687fe2-ee83-4a86-bbc5-56e122a9ff4a",
   "metadata": {
    "tags": []
   },
   "outputs": [],
   "source": [
    "# x=df_OVR2.iloc[:,0:6]      # numpy vector from a pandas data frame; all rows, first n-1 columns\n",
    "# y=df_OVR2.iloc[:,6:7]      # all rows, last col\n",
    "# Y=y.to_numpy()\n",
    "# X=x.to_numpy()\n",
    "# Y=Y.flatten()     # so it's no longer 2-dimensional (X must stay 2-d, of course)\n",
    "\n",
    "# X_train = X[0:100,:]\n",
    "# Y_train = Y[0:100]\n",
    "# X_test = X[100:201,:]\n",
    "# Y_test = Y[100:201]\n",
    "\n",
    "x_train_rand = train_rand.iloc[:,0:5]    # df to df\n",
    "y_train_rand = train_rand.iloc[:,5:6]\n",
    "x_test_rand = test_rand.iloc[:,0:5]      \n",
    "y_test_rand = test_rand.iloc[:,5:6]\n",
    "\n",
    "X_train_rand_np = x_train_rand.to_numpy()     # df to np array\n",
    "Y_train_rand_np = y_train_rand.to_numpy()\n",
    "X_test_rand_np = x_test_rand.to_numpy()\n",
    "Y_test_rand_np = y_test_rand.to_numpy()\n",
    "\n",
    "Y_train_rand_np = Y_train_rand_np.flatten()     # make Y one-dimensional\n",
    "Y_test_rand_np = Y_test_rand_np.flatten()"
   ]
  },
  {
   "cell_type": "markdown",
   "id": "399a5150-ce45-47be-8334-1f9751b2673b",
   "metadata": {},
   "source": [
    "Default maximum number of iterations, which we used above, is only 100.  That wasn't enough to achieve convergence. "
   ]
  },
  {
   "cell_type": "code",
   "execution_count": 139,
   "id": "619056f3-21f8-4c2a-a892-e6b052aaf4ff",
   "metadata": {
    "tags": []
   },
   "outputs": [],
   "source": [
    "drug_fit_rand = LogisticRegression(multi_class='multinomial', max_iter=1000).fit(X_train_rand_np, Y_train_rand_np)"
   ]
  },
  {
   "cell_type": "code",
   "execution_count": 140,
   "id": "71fec60f-bbe4-4941-978f-7679929f2815",
   "metadata": {},
   "outputs": [
    {
     "data": {
      "text/plain": [
       "0.96"
      ]
     },
     "execution_count": 140,
     "metadata": {},
     "output_type": "execute_result"
    }
   ],
   "source": [
    "drug_fit_rand.score(X_train_rand_np, Y_train_rand_np)"
   ]
  },
  {
   "cell_type": "markdown",
   "id": "418335d7-6db4-43b6-aa7f-b07e16c71ac8",
   "metadata": {},
   "source": [
    "So I've achieved convergence, but the accuracy of the training isn't much improved."
   ]
  },
  {
   "cell_type": "code",
   "execution_count": 142,
   "id": "cace4c8a-b2c5-425c-8f2e-5747b478becc",
   "metadata": {},
   "outputs": [
    {
     "data": {
      "text/plain": [
       "array([[ 9,  0,  0,  0,  0],\n",
       "       [ 1,  5,  0,  0,  3],\n",
       "       [ 0,  0, 10,  0,  0],\n",
       "       [ 0,  0,  0, 21,  1],\n",
       "       [ 1,  0,  0,  0, 49]])"
      ]
     },
     "execution_count": 142,
     "metadata": {},
     "output_type": "execute_result"
    }
   ],
   "source": [
    "metrics.confusion_matrix(Y_test_rand_np, drug_fit_rand.predict(X_test_rand_np[:,:]))"
   ]
  },
  {
   "cell_type": "markdown",
   "id": "3978d303-af33-4974-930c-d3d9a7adb8f1",
   "metadata": {
    "tags": []
   },
   "source": [
    "The test accuracy is 94%--far better than the 87% of before!\n",
    "Now let's burrow down and see if there's any pattern in the discrepancies, like before."
   ]
  },
  {
   "cell_type": "markdown",
   "id": "f9d6ac3b-bff2-44bf-a7cf-0fa3b2332ba0",
   "metadata": {
    "tags": []
   },
   "source": [
    "Removing gender while also solving the convergence problem via regularization and randomizing the training data isn't very scientific.  We don't know if dropping gender increased testing accuracy, or if it even went up _despite_ removal of gender.  \n",
    "\n",
    "For the sake of being scientific about the removal of gender, let's add gender back in, with convergence and random sampling, and see what the accuracy is."
   ]
  },
  {
   "cell_type": "code",
   "execution_count": 146,
   "id": "c12e8ac6-0b9e-4e0f-bac1-550850f5a7de",
   "metadata": {},
   "outputs": [],
   "source": [
    "df_OVR4 = df_OVR2[['Age','Sex_F','Na_to_K','BP_HIGH','BP_LOW','Cholesterol_HIGH','Drug']]"
   ]
  },
  {
   "cell_type": "code",
   "execution_count": 147,
   "id": "310badaa-057d-4ba9-b53d-4c82b2d68747",
   "metadata": {},
   "outputs": [],
   "source": [
    "test_rand_MF = df_OVR4.sample(n = 100)\n",
    "train_rand_MF = df_OVR4.sample(n = 100)"
   ]
  },
  {
   "cell_type": "code",
   "execution_count": 149,
   "id": "26811580-744c-4b35-9f6e-1361c6a60b30",
   "metadata": {},
   "outputs": [],
   "source": [
    "train_rand_MF['Age']=(train_rand_MF['Age']-45)/15    # regularization, to effect convergence\n",
    "test_rand_MF['Age']=(test_rand_MF['Age']-45)/15\n",
    "\n",
    "train_rand_MF['Na_to_K']=(train_rand_MF['Na_to_K']-15)/7\n",
    "test_rand_MF['Na_to_K']=(test_rand_MF['Na_to_K']-15)/7"
   ]
  },
  {
   "cell_type": "code",
   "execution_count": 150,
   "id": "fd26a254-bf3a-4cbb-b611-bfd9ec3e7725",
   "metadata": {},
   "outputs": [],
   "source": [
    "x_train_rand_MF = train_rand_MF.iloc[:,0:6]    # df to df\n",
    "y_train_rand_MF = train_rand_MF.iloc[:,6:7]\n",
    "x_test_rand_MF = test_rand_MF.iloc[:,0:6]      \n",
    "y_test_rand_MF = test_rand_MF.iloc[:,6:7]\n",
    "\n",
    "X_train_rand_np_MF = x_train_rand_MF.to_numpy()     # df to np array\n",
    "Y_train_rand_np_MF = y_train_rand_MF.to_numpy()\n",
    "X_test_rand_np_MF = x_test_rand_MF.to_numpy()\n",
    "Y_test_rand_np_MF = y_test_rand_MF.to_numpy()\n",
    "\n",
    "Y_train_rand_np_MF = Y_train_rand_np_MF.flatten()     # make Y one-dimensional\n",
    "Y_test_rand_np_MF = Y_test_rand_np_MF.flatten()"
   ]
  },
  {
   "cell_type": "code",
   "execution_count": 151,
   "id": "62e287aa-f779-4687-9917-f269a4564209",
   "metadata": {},
   "outputs": [],
   "source": [
    "drug_fit_rand_MF = LogisticRegression(multi_class='multinomial', max_iter=1000).fit(X_train_rand_np_MF, Y_train_rand_np_MF)"
   ]
  },
  {
   "cell_type": "code",
   "execution_count": 152,
   "id": "ccc1d324-4d95-4162-a8dd-b60a617e45d6",
   "metadata": {},
   "outputs": [
    {
     "data": {
      "text/plain": [
       "0.98"
      ]
     },
     "execution_count": 152,
     "metadata": {},
     "output_type": "execute_result"
    }
   ],
   "source": [
    "drug_fit_rand_MF.score(X_train_rand_np_MF, Y_train_rand_np_MF)   # accuracy of training"
   ]
  },
  {
   "cell_type": "code",
   "execution_count": 154,
   "id": "5c9da389-1fbc-4c0c-8f3a-39862e840386",
   "metadata": {},
   "outputs": [
    {
     "data": {
      "text/plain": [
       "array([[16,  0,  0,  0,  0],\n",
       "       [ 0,  6,  0,  0,  0],\n",
       "       [ 0,  0,  6,  0,  0],\n",
       "       [ 0,  0,  0, 29,  1],\n",
       "       [ 0,  0,  0,  0, 42]])"
      ]
     },
     "execution_count": 154,
     "metadata": {},
     "output_type": "execute_result"
    }
   ],
   "source": [
    "metrics.confusion_matrix(Y_test_rand_np_MF, drug_fit_rand_MF.predict(X_test_rand_np_MF[:,:]))"
   ]
  },
  {
   "cell_type": "markdown",
   "id": "a85c2f84-8fec-408d-9c28-98d541037486",
   "metadata": {},
   "source": [
    "So the accuracy for training data is 98% and for testing data is even higher: 99%!  It looks like my removal of gender was premature."
   ]
  },
  {
   "cell_type": "markdown",
   "id": "aceb94a1-a052-4c56-8f58-05837570aa3f",
   "metadata": {},
   "source": [
    "### Continued Analysis of Non-gendered Data ###\n",
    "I include the following from the data without gender only since I have it.  It's somewhat interesting what happens when gender is left out, but can be skipped."
   ]
  },
  {
   "cell_type": "code",
   "execution_count": 143,
   "id": "ed1ef318-e459-4a09-ad3b-c420b67e9d17",
   "metadata": {
    "tags": []
   },
   "outputs": [
    {
     "data": {
      "text/plain": [
       "array(['drugX', 'drugY', 'drugY', 'drugY', 'drugY', 'drugY', 'drugY',\n",
       "       'drugY', 'drugB', 'drugY', 'drugX', 'drugY', 'drugY', 'drugX',\n",
       "       'drugX', 'drugY', 'drugX', 'drugA', 'drugY', 'drugY', 'drugC',\n",
       "       'drugA', 'drugY', 'drugY', 'drugC', 'drugY', 'drugX', 'drugC',\n",
       "       'drugY', 'drugX', 'drugY', 'drugY', 'drugC', 'drugX', 'drugY',\n",
       "       'drugY', 'drugX', 'drugY', 'drugY', 'drugX', 'drugY', 'drugB',\n",
       "       'drugX', 'drugY', 'drugX', 'drugY', 'drugY', 'drugY', 'drugX',\n",
       "       'drugB', 'drugB', 'drugA', 'drugX', 'drugY', 'drugX', 'drugC',\n",
       "       'drugY', 'drugA', 'drugX', 'drugY', 'drugB', 'drugA', 'drugX',\n",
       "       'drugA', 'drugX', 'drugY', 'drugC', 'drugC', 'drugX', 'drugY',\n",
       "       'drugY', 'drugY', 'drugY', 'drugY', 'drugA', 'drugY', 'drugY',\n",
       "       'drugY', 'drugY', 'drugY', 'drugY', 'drugA', 'drugX', 'drugY',\n",
       "       'drugY', 'drugX', 'drugA', 'drugY', 'drugY', 'drugA', 'drugA',\n",
       "       'drugY', 'drugC', 'drugC', 'drugY', 'drugC', 'drugY', 'drugY',\n",
       "       'drugY', 'drugY'], dtype=object)"
      ]
     },
     "execution_count": 143,
     "metadata": {},
     "output_type": "execute_result"
    }
   ],
   "source": [
    "drug_fit_rand.predict(X_test_rand_np[:,:])"
   ]
  },
  {
   "cell_type": "code",
   "execution_count": 144,
   "id": "2de32897-b575-43c5-83fc-50787006b61f",
   "metadata": {},
   "outputs": [
    {
     "data": {
      "text/plain": [
       "array(['drugX', 'drugY', 'drugB', 'drugY', 'drugY', 'drugX', 'drugY',\n",
       "       'drugY', 'drugB', 'drugB', 'drugX', 'drugY', 'drugY', 'drugX',\n",
       "       'drugX', 'drugY', 'drugX', 'drugA', 'drugY', 'drugY', 'drugC',\n",
       "       'drugA', 'drugY', 'drugY', 'drugC', 'drugY', 'drugX', 'drugC',\n",
       "       'drugY', 'drugX', 'drugY', 'drugY', 'drugC', 'drugX', 'drugY',\n",
       "       'drugY', 'drugX', 'drugY', 'drugB', 'drugX', 'drugY', 'drugB',\n",
       "       'drugX', 'drugY', 'drugX', 'drugY', 'drugY', 'drugY', 'drugX',\n",
       "       'drugB', 'drugB', 'drugA', 'drugX', 'drugY', 'drugX', 'drugC',\n",
       "       'drugY', 'drugA', 'drugX', 'drugY', 'drugB', 'drugA', 'drugX',\n",
       "       'drugA', 'drugX', 'drugY', 'drugC', 'drugC', 'drugX', 'drugY',\n",
       "       'drugY', 'drugY', 'drugY', 'drugY', 'drugY', 'drugY', 'drugY',\n",
       "       'drugY', 'drugY', 'drugY', 'drugY', 'drugA', 'drugX', 'drugY',\n",
       "       'drugY', 'drugX', 'drugA', 'drugY', 'drugY', 'drugB', 'drugA',\n",
       "       'drugY', 'drugC', 'drugC', 'drugY', 'drugC', 'drugY', 'drugY',\n",
       "       'drugY', 'drugY'], dtype=object)"
      ]
     },
     "execution_count": 144,
     "metadata": {},
     "output_type": "execute_result"
    }
   ],
   "source": [
    "Y_test_rand_np"
   ]
  },
  {
   "cell_type": "code",
   "execution_count": 145,
   "id": "93693f90-e2aa-4a36-8807-e8cbe1d959e5",
   "metadata": {
    "tags": []
   },
   "outputs": [
    {
     "data": {
      "text/plain": [
       "array([[ 1.        , -0.15228571,  1.        ,  0.        ,  1.        ],\n",
       "       [ 1.8       , -0.05114286,  0.        ,  1.        ,  0.        ],\n",
       "       [ 0.93333333, -0.15214286,  1.        ,  0.        ,  1.        ],\n",
       "       [ 0.86666667, -0.10871429,  1.        ,  0.        ,  0.        ],\n",
       "       [-2.        ,  0.24642857,  1.        ,  0.        ,  0.        ],\n",
       "       [ 0.66666667, -0.57471429,  1.        ,  0.        ,  1.        ]])"
      ]
     },
     "execution_count": 145,
     "metadata": {},
     "output_type": "execute_result"
    }
   ],
   "source": [
    "list3=[2,5,9,38,74,89]      # pulling off the rows with discrepancies b/n test-prediction and test-actual\n",
    "X_test_rand_np_missed = X_test_rand_np[list3]\n",
    "X_test_rand_np_missed"
   ]
  },
  {
   "cell_type": "markdown",
   "id": "cd4c8227-f3d4-48f0-a0ef-4beabb698c98",
   "metadata": {},
   "source": [
    "Of all six missed predictions, only the last one didn't involve drug Y.  It involved a switch from B to A, breaking the age rule.  The age is (2/3)x15+45=55, and so should be B."
   ]
  },
  {
   "cell_type": "markdown",
   "id": "c6e61ee4-9eb0-4e62-b13a-37c32067ea3b",
   "metadata": {},
   "source": [
    "### Conclusions ###"
   ]
  },
  {
   "cell_type": "markdown",
   "id": "c1618217-bce9-408a-97ac-ab3408df9e2b",
   "metadata": {},
   "source": [
    "While age didn't seem to play a role in our initial analysis, subsequent analysis shows it does play a role.  It seemed like a flowchart could outperform the genderless model, with the complication of drug Y having a hard and fast Na:K cutoff, but all that was needed was to reinclude gender.\n",
    "\n",
    "Regularization solved the convergence problem and improved testing results tremendously.  The non-gendered fit led me to believe the data wasn't sufficiently determined for a model to choose between A, B, and C correctly, and that gender was not a path to sufficient determination, but that proved not to be the case.\n",
    "\n",
    "Since the confusion matrix isn't 2x2, I didn't have the luxury of using, say, the F1 metric.  The accuracy is so high, that I don't see what other metrics could add."
   ]
  },
  {
   "cell_type": "markdown",
   "id": "77c67f1b-9ef5-4e6a-8ec6-5db4902ca216",
   "metadata": {},
   "source": [
    "### Further Study ###"
   ]
  },
  {
   "cell_type": "markdown",
   "id": "9926a046-df35-4db9-992d-675b54583af5",
   "metadata": {},
   "source": [
    "For the next step after running the genderless model, I thought of adding interactions into the model using patsy.  But since adding gender gave such an improvement, I don't see the need.  Perhaps measures of fit other than accuracy could be applied to verify success."
   ]
  },
  {
   "cell_type": "markdown",
   "id": "041f3b1f-0760-4b40-8d3a-61dceabbf4e6",
   "metadata": {},
   "source": []
  },
  {
   "cell_type": "code",
   "execution_count": null,
   "id": "e435aefc-41ac-4e15-ae29-6834b865c55c",
   "metadata": {},
   "outputs": [],
   "source": []
  }
 ],
 "metadata": {
  "kernelspec": {
   "display_name": "Python 3",
   "language": "python",
   "name": "python3"
  },
  "language_info": {
   "codemirror_mode": {
    "name": "ipython",
    "version": 3
   },
   "file_extension": ".py",
   "mimetype": "text/x-python",
   "name": "python",
   "nbconvert_exporter": "python",
   "pygments_lexer": "ipython3",
   "version": "3.8.8"
  }
 },
 "nbformat": 4,
 "nbformat_minor": 5
}
